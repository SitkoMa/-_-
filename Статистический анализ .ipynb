{
 "cells": [
  {
   "cell_type": "markdown",
   "id": "0c6146fe",
   "metadata": {},
   "source": [
    "# Проект: Статистический анализ данных "
   ]
  },
  {
   "cell_type": "markdown",
   "id": "1037f03b",
   "metadata": {},
   "source": [
    "## Описание данных. \n",
    "\n",
    "**Пользователи — users_go.csv**\n",
    "+ user_id - уникальный идентификатор пользователя\n",
    "+ name - \tимя пользователя\n",
    "+ age -\tвозраст\n",
    "+ city -\tгород\n",
    "+ subscription_type -\tтип подписки (free, ultra)"
   ]
  },
  {
   "cell_type": "markdown",
   "id": "4b86ef53",
   "metadata": {},
   "source": [
    "**Поездки — rides_go.csv**\n",
    "+ user_id\t- уникальный идентификатор пользователя\n",
    "+ distance -\tрасстояние, которое пользователь проехал в текущей сессии (в метрах)\n",
    "+ duration -\tпродолжительность сессии (в минутах) — время с того момента, как пользователь нажал кнопку «Начать поездку» до момента, как он нажал кнопку «Завершить поездку»\n",
    "+ date -\tдата совершения поездки"
   ]
  },
  {
   "cell_type": "markdown",
   "id": "a666ca79",
   "metadata": {},
   "source": [
    "**Подписки — subscriptions_go.csv**\n",
    "+ subscription_type -\tтип подписки\n",
    "+ minute_price -\tстоимость одной минуты поездки по данной подписке\n",
    "+ start_ride_price -\tстоимость начала поездки\n",
    "+ subscription_fee -\tстоимость ежемесячного платежа"
   ]
  },
  {
   "cell_type": "markdown",
   "id": "bd7ebb53",
   "metadata": {},
   "source": [
    "Чтобы совершать поездки по городу, пользователи сервиса GoFast пользуются мобильным приложением. Сервисом можно пользоваться:\n",
    "1. без подписки\n",
    "+ абонентская плата отсутствует;\n",
    "+ стоимость одной минуты поездки — 8 рублей;\n",
    "+ стоимость старта (начала поездки) — 50 рублей;\n",
    "2. с подпиской Ultra\n",
    "+ абонентская плата — 199 рублей в месяц;\n",
    "+ стоимость одной минуты поездки — 6 рублей;\n",
    "+ стоимость старта — бесплатно."
   ]
  },
  {
   "cell_type": "markdown",
   "id": "58e6905c",
   "metadata": {},
   "source": [
    "**Цель иследования:**\n",
    "    \n",
    "   1. Определить вырочку с подпиской и без подписки; \n",
    "   2. Проверить: тратять ли пользователи с подпиской больше, чем пользователи без подниски;\n",
    "   3. Среднее расстояние, которое проезжают пользователи с подпиской за одну поездку, не превышает 3130 метров;\n",
    "   4. Помесячная выручка от пользователей с подпиской по месяцам выше, чем выручка от пользователей без подписки."
   ]
  },
  {
   "cell_type": "markdown",
   "id": "52deed9b",
   "metadata": {},
   "source": [
    "**Ход иследования:**\n",
    "Данные о поездах, пользователях и подписках я получу из файлов : `users_go.csv`, `rides_go.csv`, `subscriptions_go.csv`. \n",
    "О качестве данных ничего не известно. Перед тем как приступить к анализу данных, следует предобработать датасеты, а именно проверить на пропуски, дубликаты, неверные значения и другое.\n",
    "\n",
    "\n",
    "Таким образом моё иследование пройдет в 7 этапов:\n",
    "   + Описание данных. В данном разделе опишим данные которые есть в дататсетах и определимся с планом работы.\n",
    "   + Загрузка данных. Загрузим данные из всех датасетов и оценим данные с которыми будем работать. Импортируем библиотеки.\n",
    "   + Предобработка данных. Выявим пропуски, дубликаты и аномальные значения, если такие имеются. Приведем данные в сооответствие.\n",
    "   + Исследуем данные. (частота встречаемости города, соотвношение пользователей, возраст пользователей, продолжительность поездки и расстояние)\n",
    "   + Объединим данные, проверив совместимость датасетов. После проведем повторную проверки на пропуски и дубликаты.\n",
    "   + Рассчитаем выручку по формуле, используя сводную таблицу.\n",
    "   + Проверим гипотезы представленные в задаче с помощью t-test(ов)\n",
    "   + Решим немного задач\n",
    "   + Написание вывода"
   ]
  },
  {
   "cell_type": "markdown",
   "id": "c42cbe00",
   "metadata": {},
   "source": [
    "## Загрузка данных. "
   ]
  },
  {
   "cell_type": "code",
   "execution_count": 1,
   "id": "d7672bd0",
   "metadata": {},
   "outputs": [],
   "source": [
    "#Импортируем библиотеки\n",
    "import matplotlib.pyplot as plt\n",
    "import numpy as np\n",
    "import pandas as pd\n",
    "import seaborn as sns\n",
    "from IPython.display import display\n",
    "from scipy import stats as st\n",
    "import warnings\n",
    "import matplotlib.ticker as ticker\n",
    "from math import factorial"
   ]
  },
  {
   "cell_type": "code",
   "execution_count": 7,
   "id": "b9dad113",
   "metadata": {},
   "outputs": [
    {
     "data": {
      "text/html": [
       "<div>\n",
       "<style scoped>\n",
       "    .dataframe tbody tr th:only-of-type {\n",
       "        vertical-align: middle;\n",
       "    }\n",
       "\n",
       "    .dataframe tbody tr th {\n",
       "        vertical-align: top;\n",
       "    }\n",
       "\n",
       "    .dataframe thead th {\n",
       "        text-align: right;\n",
       "    }\n",
       "</style>\n",
       "<table border=\"1\" class=\"dataframe\">\n",
       "  <thead>\n",
       "    <tr style=\"text-align: right;\">\n",
       "      <th></th>\n",
       "      <th>user_id</th>\n",
       "      <th>name</th>\n",
       "      <th>age</th>\n",
       "      <th>city</th>\n",
       "      <th>subscription_type</th>\n",
       "    </tr>\n",
       "  </thead>\n",
       "  <tbody>\n",
       "    <tr>\n",
       "      <th>0</th>\n",
       "      <td>1</td>\n",
       "      <td>Кира</td>\n",
       "      <td>22</td>\n",
       "      <td>Тюмень</td>\n",
       "      <td>ultra</td>\n",
       "    </tr>\n",
       "    <tr>\n",
       "      <th>1</th>\n",
       "      <td>2</td>\n",
       "      <td>Станислав</td>\n",
       "      <td>31</td>\n",
       "      <td>Омск</td>\n",
       "      <td>ultra</td>\n",
       "    </tr>\n",
       "    <tr>\n",
       "      <th>2</th>\n",
       "      <td>3</td>\n",
       "      <td>Алексей</td>\n",
       "      <td>20</td>\n",
       "      <td>Москва</td>\n",
       "      <td>ultra</td>\n",
       "    </tr>\n",
       "    <tr>\n",
       "      <th>3</th>\n",
       "      <td>4</td>\n",
       "      <td>Константин</td>\n",
       "      <td>26</td>\n",
       "      <td>Ростов-на-Дону</td>\n",
       "      <td>ultra</td>\n",
       "    </tr>\n",
       "    <tr>\n",
       "      <th>4</th>\n",
       "      <td>5</td>\n",
       "      <td>Адель</td>\n",
       "      <td>28</td>\n",
       "      <td>Омск</td>\n",
       "      <td>ultra</td>\n",
       "    </tr>\n",
       "  </tbody>\n",
       "</table>\n",
       "</div>"
      ],
      "text/plain": [
       "   user_id        name  age            city subscription_type\n",
       "0        1        Кира   22          Тюмень             ultra\n",
       "1        2   Станислав   31            Омск             ultra\n",
       "2        3     Алексей   20          Москва             ultra\n",
       "3        4  Константин   26  Ростов-на-Дону             ultra\n",
       "4        5       Адель   28            Омск             ultra"
      ]
     },
     "metadata": {},
     "output_type": "display_data"
    },
    {
     "data": {
      "text/html": [
       "<div>\n",
       "<style scoped>\n",
       "    .dataframe tbody tr th:only-of-type {\n",
       "        vertical-align: middle;\n",
       "    }\n",
       "\n",
       "    .dataframe tbody tr th {\n",
       "        vertical-align: top;\n",
       "    }\n",
       "\n",
       "    .dataframe thead th {\n",
       "        text-align: right;\n",
       "    }\n",
       "</style>\n",
       "<table border=\"1\" class=\"dataframe\">\n",
       "  <thead>\n",
       "    <tr style=\"text-align: right;\">\n",
       "      <th></th>\n",
       "      <th>user_id</th>\n",
       "      <th>distance</th>\n",
       "      <th>duration</th>\n",
       "      <th>date</th>\n",
       "    </tr>\n",
       "  </thead>\n",
       "  <tbody>\n",
       "    <tr>\n",
       "      <th>0</th>\n",
       "      <td>1</td>\n",
       "      <td>4409.919140</td>\n",
       "      <td>25.599769</td>\n",
       "      <td>2021-01-01</td>\n",
       "    </tr>\n",
       "    <tr>\n",
       "      <th>1</th>\n",
       "      <td>1</td>\n",
       "      <td>2617.592153</td>\n",
       "      <td>15.816871</td>\n",
       "      <td>2021-01-18</td>\n",
       "    </tr>\n",
       "    <tr>\n",
       "      <th>2</th>\n",
       "      <td>1</td>\n",
       "      <td>754.159807</td>\n",
       "      <td>6.232113</td>\n",
       "      <td>2021-04-20</td>\n",
       "    </tr>\n",
       "    <tr>\n",
       "      <th>3</th>\n",
       "      <td>1</td>\n",
       "      <td>2694.783254</td>\n",
       "      <td>18.511000</td>\n",
       "      <td>2021-08-11</td>\n",
       "    </tr>\n",
       "    <tr>\n",
       "      <th>4</th>\n",
       "      <td>1</td>\n",
       "      <td>4028.687306</td>\n",
       "      <td>26.265803</td>\n",
       "      <td>2021-08-28</td>\n",
       "    </tr>\n",
       "  </tbody>\n",
       "</table>\n",
       "</div>"
      ],
      "text/plain": [
       "   user_id     distance   duration        date\n",
       "0        1  4409.919140  25.599769  2021-01-01\n",
       "1        1  2617.592153  15.816871  2021-01-18\n",
       "2        1   754.159807   6.232113  2021-04-20\n",
       "3        1  2694.783254  18.511000  2021-08-11\n",
       "4        1  4028.687306  26.265803  2021-08-28"
      ]
     },
     "metadata": {},
     "output_type": "display_data"
    },
    {
     "data": {
      "text/html": [
       "<div>\n",
       "<style scoped>\n",
       "    .dataframe tbody tr th:only-of-type {\n",
       "        vertical-align: middle;\n",
       "    }\n",
       "\n",
       "    .dataframe tbody tr th {\n",
       "        vertical-align: top;\n",
       "    }\n",
       "\n",
       "    .dataframe thead th {\n",
       "        text-align: right;\n",
       "    }\n",
       "</style>\n",
       "<table border=\"1\" class=\"dataframe\">\n",
       "  <thead>\n",
       "    <tr style=\"text-align: right;\">\n",
       "      <th></th>\n",
       "      <th>subscription_type</th>\n",
       "      <th>minute_price</th>\n",
       "      <th>start_ride_price</th>\n",
       "      <th>subscription_fee</th>\n",
       "    </tr>\n",
       "  </thead>\n",
       "  <tbody>\n",
       "    <tr>\n",
       "      <th>0</th>\n",
       "      <td>free</td>\n",
       "      <td>8</td>\n",
       "      <td>50</td>\n",
       "      <td>0</td>\n",
       "    </tr>\n",
       "    <tr>\n",
       "      <th>1</th>\n",
       "      <td>ultra</td>\n",
       "      <td>6</td>\n",
       "      <td>0</td>\n",
       "      <td>199</td>\n",
       "    </tr>\n",
       "  </tbody>\n",
       "</table>\n",
       "</div>"
      ],
      "text/plain": [
       "  subscription_type  minute_price  start_ride_price  subscription_fee\n",
       "0              free             8                50                 0\n",
       "1             ultra             6                 0               199"
      ]
     },
     "metadata": {},
     "output_type": "display_data"
    }
   ],
   "source": [
    "users = pd.read_csv('users_go.csv')\n",
    "display(users.head())\n",
    "rides = pd.read_csv('rides_go.csv')\n",
    "display(rides.head())\n",
    "subscriptions = pd.read_csv('subscriptions_go.csv')\n",
    "display(subscriptions.head())"
   ]
  },
  {
   "cell_type": "code",
   "execution_count": 8,
   "id": "d40f5462",
   "metadata": {
    "scrolled": true
   },
   "outputs": [
    {
     "name": "stdout",
     "output_type": "stream",
     "text": [
      "<class 'pandas.core.frame.DataFrame'>\n",
      "RangeIndex: 1565 entries, 0 to 1564\n",
      "Data columns (total 5 columns):\n",
      " #   Column             Non-Null Count  Dtype \n",
      "---  ------             --------------  ----- \n",
      " 0   user_id            1565 non-null   int64 \n",
      " 1   name               1565 non-null   object\n",
      " 2   age                1565 non-null   int64 \n",
      " 3   city               1565 non-null   object\n",
      " 4   subscription_type  1565 non-null   object\n",
      "dtypes: int64(2), object(3)\n",
      "memory usage: 61.3+ KB\n",
      "<class 'pandas.core.frame.DataFrame'>\n",
      "RangeIndex: 18068 entries, 0 to 18067\n",
      "Data columns (total 4 columns):\n",
      " #   Column    Non-Null Count  Dtype  \n",
      "---  ------    --------------  -----  \n",
      " 0   user_id   18068 non-null  int64  \n",
      " 1   distance  18068 non-null  float64\n",
      " 2   duration  18068 non-null  float64\n",
      " 3   date      18068 non-null  object \n",
      "dtypes: float64(2), int64(1), object(1)\n",
      "memory usage: 564.8+ KB\n",
      "<class 'pandas.core.frame.DataFrame'>\n",
      "RangeIndex: 2 entries, 0 to 1\n",
      "Data columns (total 4 columns):\n",
      " #   Column             Non-Null Count  Dtype \n",
      "---  ------             --------------  ----- \n",
      " 0   subscription_type  2 non-null      object\n",
      " 1   minute_price       2 non-null      int64 \n",
      " 2   start_ride_price   2 non-null      int64 \n",
      " 3   subscription_fee   2 non-null      int64 \n",
      "dtypes: int64(3), object(1)\n",
      "memory usage: 192.0+ bytes\n"
     ]
    }
   ],
   "source": [
    "users.info()\n",
    "rides.info()\n",
    "subscriptions.info()"
   ]
  },
  {
   "cell_type": "markdown",
   "id": "bb3c39f8",
   "metadata": {},
   "source": [
    "Вывод: \n",
    "+ Датасет **Пользователи** имеет 1565 строк и ни одного пропуска. Все строки имеют корректный тип для указанных в них данных.\n",
    "+ Датасет **Поездки** имеет 18068 строк и ниодного пропуска в данных. Строка `data` имеет неверный тип данных - `object`. Следует изменить на тип `datatime`.\n",
    "+ Датасет **Подписки** имеет 2 строки и ни одного пропуска. "
   ]
  },
  {
   "cell_type": "markdown",
   "id": "1fa26422",
   "metadata": {},
   "source": [
    "##  Предобработка данных."
   ]
  },
  {
   "cell_type": "code",
   "execution_count": 9,
   "id": "1213a08d",
   "metadata": {},
   "outputs": [
    {
     "data": {
      "text/html": [
       "<div>\n",
       "<style scoped>\n",
       "    .dataframe tbody tr th:only-of-type {\n",
       "        vertical-align: middle;\n",
       "    }\n",
       "\n",
       "    .dataframe tbody tr th {\n",
       "        vertical-align: top;\n",
       "    }\n",
       "\n",
       "    .dataframe thead th {\n",
       "        text-align: right;\n",
       "    }\n",
       "</style>\n",
       "<table border=\"1\" class=\"dataframe\">\n",
       "  <thead>\n",
       "    <tr style=\"text-align: right;\">\n",
       "      <th></th>\n",
       "      <th>user_id</th>\n",
       "      <th>distance</th>\n",
       "      <th>duration</th>\n",
       "      <th>date</th>\n",
       "    </tr>\n",
       "  </thead>\n",
       "  <tbody>\n",
       "    <tr>\n",
       "      <th>0</th>\n",
       "      <td>1</td>\n",
       "      <td>4409.919140</td>\n",
       "      <td>25.599769</td>\n",
       "      <td>2021-01-01</td>\n",
       "    </tr>\n",
       "    <tr>\n",
       "      <th>1</th>\n",
       "      <td>1</td>\n",
       "      <td>2617.592153</td>\n",
       "      <td>15.816871</td>\n",
       "      <td>2021-01-18</td>\n",
       "    </tr>\n",
       "    <tr>\n",
       "      <th>2</th>\n",
       "      <td>1</td>\n",
       "      <td>754.159807</td>\n",
       "      <td>6.232113</td>\n",
       "      <td>2021-04-20</td>\n",
       "    </tr>\n",
       "    <tr>\n",
       "      <th>3</th>\n",
       "      <td>1</td>\n",
       "      <td>2694.783254</td>\n",
       "      <td>18.511000</td>\n",
       "      <td>2021-08-11</td>\n",
       "    </tr>\n",
       "    <tr>\n",
       "      <th>4</th>\n",
       "      <td>1</td>\n",
       "      <td>4028.687306</td>\n",
       "      <td>26.265803</td>\n",
       "      <td>2021-08-28</td>\n",
       "    </tr>\n",
       "  </tbody>\n",
       "</table>\n",
       "</div>"
      ],
      "text/plain": [
       "   user_id     distance   duration       date\n",
       "0        1  4409.919140  25.599769 2021-01-01\n",
       "1        1  2617.592153  15.816871 2021-01-18\n",
       "2        1   754.159807   6.232113 2021-04-20\n",
       "3        1  2694.783254  18.511000 2021-08-11\n",
       "4        1  4028.687306  26.265803 2021-08-28"
      ]
     },
     "metadata": {},
     "output_type": "display_data"
    },
    {
     "name": "stdout",
     "output_type": "stream",
     "text": [
      "<class 'pandas.core.frame.DataFrame'>\n",
      "RangeIndex: 18068 entries, 0 to 18067\n",
      "Data columns (total 4 columns):\n",
      " #   Column    Non-Null Count  Dtype         \n",
      "---  ------    --------------  -----         \n",
      " 0   user_id   18068 non-null  int64         \n",
      " 1   distance  18068 non-null  float64       \n",
      " 2   duration  18068 non-null  float64       \n",
      " 3   date      18068 non-null  datetime64[ns]\n",
      "dtypes: datetime64[ns](1), float64(2), int64(1)\n",
      "memory usage: 564.8 KB\n"
     ]
    }
   ],
   "source": [
    "# формат даты передадим методу to_datetime с помощью параметра format.\n",
    "rides['date'] = pd.to_datetime(rides['date'], format='%Y-%m-%d')\n",
    "display(rides.head(5))\n",
    "rides.info()"
   ]
  },
  {
   "cell_type": "code",
   "execution_count": 10,
   "id": "805f1c30",
   "metadata": {
    "scrolled": true
   },
   "outputs": [
    {
     "data": {
      "text/html": [
       "<div>\n",
       "<style scoped>\n",
       "    .dataframe tbody tr th:only-of-type {\n",
       "        vertical-align: middle;\n",
       "    }\n",
       "\n",
       "    .dataframe tbody tr th {\n",
       "        vertical-align: top;\n",
       "    }\n",
       "\n",
       "    .dataframe thead th {\n",
       "        text-align: right;\n",
       "    }\n",
       "</style>\n",
       "<table border=\"1\" class=\"dataframe\">\n",
       "  <thead>\n",
       "    <tr style=\"text-align: right;\">\n",
       "      <th></th>\n",
       "      <th>user_id</th>\n",
       "      <th>distance</th>\n",
       "      <th>duration</th>\n",
       "      <th>date</th>\n",
       "      <th>month</th>\n",
       "    </tr>\n",
       "  </thead>\n",
       "  <tbody>\n",
       "    <tr>\n",
       "      <th>0</th>\n",
       "      <td>1</td>\n",
       "      <td>4409.919140</td>\n",
       "      <td>25.599769</td>\n",
       "      <td>2021-01-01</td>\n",
       "      <td>1</td>\n",
       "    </tr>\n",
       "    <tr>\n",
       "      <th>1</th>\n",
       "      <td>1</td>\n",
       "      <td>2617.592153</td>\n",
       "      <td>15.816871</td>\n",
       "      <td>2021-01-18</td>\n",
       "      <td>1</td>\n",
       "    </tr>\n",
       "    <tr>\n",
       "      <th>2</th>\n",
       "      <td>1</td>\n",
       "      <td>754.159807</td>\n",
       "      <td>6.232113</td>\n",
       "      <td>2021-04-20</td>\n",
       "      <td>4</td>\n",
       "    </tr>\n",
       "    <tr>\n",
       "      <th>3</th>\n",
       "      <td>1</td>\n",
       "      <td>2694.783254</td>\n",
       "      <td>18.511000</td>\n",
       "      <td>2021-08-11</td>\n",
       "      <td>8</td>\n",
       "    </tr>\n",
       "    <tr>\n",
       "      <th>4</th>\n",
       "      <td>1</td>\n",
       "      <td>4028.687306</td>\n",
       "      <td>26.265803</td>\n",
       "      <td>2021-08-28</td>\n",
       "      <td>8</td>\n",
       "    </tr>\n",
       "  </tbody>\n",
       "</table>\n",
       "</div>"
      ],
      "text/plain": [
       "   user_id     distance   duration       date  month\n",
       "0        1  4409.919140  25.599769 2021-01-01      1\n",
       "1        1  2617.592153  15.816871 2021-01-18      1\n",
       "2        1   754.159807   6.232113 2021-04-20      4\n",
       "3        1  2694.783254  18.511000 2021-08-11      8\n",
       "4        1  4028.687306  26.265803 2021-08-28      8"
      ]
     },
     "metadata": {},
     "output_type": "display_data"
    }
   ],
   "source": [
    "rides['month'] = pd.DatetimeIndex(rides['date']).month\n",
    "display(rides.head(5))"
   ]
  },
  {
   "cell_type": "code",
   "execution_count": 11,
   "id": "78cd0905",
   "metadata": {},
   "outputs": [
    {
     "name": "stderr",
     "output_type": "stream",
     "text": [
      "C:\\Users\\Admin\\AppData\\Local\\Temp\\ipykernel_19440\\2469371744.py:1: FutureWarning: Treating datetime data as categorical rather than numeric in `.describe` is deprecated and will be removed in a future version of pandas. Specify `datetime_is_numeric=True` to silence this warning and adopt the future behavior now.\n",
      "  display(rides['date'].describe())\n"
     ]
    },
    {
     "data": {
      "text/plain": [
       "count                   18068\n",
       "unique                    364\n",
       "top       2021-12-22 00:00:00\n",
       "freq                       72\n",
       "first     2021-01-01 00:00:00\n",
       "last      2021-12-30 00:00:00\n",
       "Name: date, dtype: object"
      ]
     },
     "metadata": {},
     "output_type": "display_data"
    },
    {
     "name": "stdout",
     "output_type": "stream",
     "text": [
      "Рассматриваемый период от: 2021-01-01 00:00:00\n",
      "Рассматриваемый период до: 2021-12-30 00:00:00\n"
     ]
    }
   ],
   "source": [
    "display(rides['date'].describe())\n",
    "print('Рассматриваемый период от:', rides['date'].min())\n",
    "print('Рассматриваемый период до:', rides['date'].max())"
   ]
  },
  {
   "cell_type": "markdown",
   "id": "d6e75045",
   "metadata": {},
   "source": [
    "**Проверим пропуски в каждой таблице отдельно**\n",
    "+ users (Пользователи)"
   ]
  },
  {
   "cell_type": "code",
   "execution_count": 12,
   "id": "f918920f",
   "metadata": {},
   "outputs": [
    {
     "data": {
      "text/plain": [
       "'Количество пропусков в таблице \"users\":'"
      ]
     },
     "metadata": {},
     "output_type": "display_data"
    },
    {
     "data": {
      "text/plain": [
       "user_id              0\n",
       "name                 0\n",
       "age                  0\n",
       "city                 0\n",
       "subscription_type    0\n",
       "dtype: int64"
      ]
     },
     "metadata": {},
     "output_type": "display_data"
    },
    {
     "name": "stdout",
     "output_type": "stream",
     "text": [
      "Количество дубликатов в таблице \"users\": 31\n"
     ]
    }
   ],
   "source": [
    "display('Количество пропусков в таблице \"users\":', users.isna().sum())\n",
    "print('Количество дубликатов в таблице \"users\":', users.duplicated().sum())"
   ]
  },
  {
   "cell_type": "code",
   "execution_count": 13,
   "id": "0cbe00f2",
   "metadata": {},
   "outputs": [
    {
     "data": {
      "text/html": [
       "<div>\n",
       "<style scoped>\n",
       "    .dataframe tbody tr th:only-of-type {\n",
       "        vertical-align: middle;\n",
       "    }\n",
       "\n",
       "    .dataframe tbody tr th {\n",
       "        vertical-align: top;\n",
       "    }\n",
       "\n",
       "    .dataframe thead th {\n",
       "        text-align: right;\n",
       "    }\n",
       "</style>\n",
       "<table border=\"1\" class=\"dataframe\">\n",
       "  <thead>\n",
       "    <tr style=\"text-align: right;\">\n",
       "      <th></th>\n",
       "      <th>user_id</th>\n",
       "      <th>name</th>\n",
       "      <th>age</th>\n",
       "      <th>city</th>\n",
       "      <th>subscription_type</th>\n",
       "    </tr>\n",
       "  </thead>\n",
       "  <tbody>\n",
       "    <tr>\n",
       "      <th>1534</th>\n",
       "      <td>293</td>\n",
       "      <td>Агата</td>\n",
       "      <td>26</td>\n",
       "      <td>Краснодар</td>\n",
       "      <td>ultra</td>\n",
       "    </tr>\n",
       "    <tr>\n",
       "      <th>1535</th>\n",
       "      <td>16</td>\n",
       "      <td>Амалия</td>\n",
       "      <td>27</td>\n",
       "      <td>Краснодар</td>\n",
       "      <td>ultra</td>\n",
       "    </tr>\n",
       "    <tr>\n",
       "      <th>1536</th>\n",
       "      <td>909</td>\n",
       "      <td>Константин</td>\n",
       "      <td>20</td>\n",
       "      <td>Екатеринбург</td>\n",
       "      <td>free</td>\n",
       "    </tr>\n",
       "    <tr>\n",
       "      <th>1537</th>\n",
       "      <td>403</td>\n",
       "      <td>Полина</td>\n",
       "      <td>19</td>\n",
       "      <td>Сочи</td>\n",
       "      <td>ultra</td>\n",
       "    </tr>\n",
       "    <tr>\n",
       "      <th>1538</th>\n",
       "      <td>908</td>\n",
       "      <td>Рустам</td>\n",
       "      <td>30</td>\n",
       "      <td>Тюмень</td>\n",
       "      <td>free</td>\n",
       "    </tr>\n",
       "    <tr>\n",
       "      <th>1539</th>\n",
       "      <td>43</td>\n",
       "      <td>Стефания</td>\n",
       "      <td>22</td>\n",
       "      <td>Омск</td>\n",
       "      <td>ultra</td>\n",
       "    </tr>\n",
       "    <tr>\n",
       "      <th>1540</th>\n",
       "      <td>127</td>\n",
       "      <td>Павел</td>\n",
       "      <td>25</td>\n",
       "      <td>Пятигорск</td>\n",
       "      <td>ultra</td>\n",
       "    </tr>\n",
       "    <tr>\n",
       "      <th>1541</th>\n",
       "      <td>659</td>\n",
       "      <td>Злата</td>\n",
       "      <td>27</td>\n",
       "      <td>Ростов-на-Дону</td>\n",
       "      <td>ultra</td>\n",
       "    </tr>\n",
       "    <tr>\n",
       "      <th>1542</th>\n",
       "      <td>204</td>\n",
       "      <td>Руслан</td>\n",
       "      <td>30</td>\n",
       "      <td>Пятигорск</td>\n",
       "      <td>ultra</td>\n",
       "    </tr>\n",
       "    <tr>\n",
       "      <th>1543</th>\n",
       "      <td>153</td>\n",
       "      <td>Герман</td>\n",
       "      <td>23</td>\n",
       "      <td>Москва</td>\n",
       "      <td>ultra</td>\n",
       "    </tr>\n",
       "  </tbody>\n",
       "</table>\n",
       "</div>"
      ],
      "text/plain": [
       "      user_id        name  age            city subscription_type\n",
       "1534      293       Агата   26       Краснодар             ultra\n",
       "1535       16      Амалия   27       Краснодар             ultra\n",
       "1536      909  Константин   20    Екатеринбург              free\n",
       "1537      403      Полина   19            Сочи             ultra\n",
       "1538      908      Рустам   30          Тюмень              free\n",
       "1539       43    Стефания   22            Омск             ultra\n",
       "1540      127       Павел   25       Пятигорск             ultra\n",
       "1541      659       Злата   27  Ростов-на-Дону             ultra\n",
       "1542      204      Руслан   30       Пятигорск             ultra\n",
       "1543      153      Герман   23          Москва             ultra"
      ]
     },
     "metadata": {},
     "output_type": "display_data"
    }
   ],
   "source": [
    "users_duplicated = users[users.duplicated()].head(10)\n",
    "display(users_duplicated)"
   ]
  },
  {
   "cell_type": "markdown",
   "id": "81f6e4de",
   "metadata": {},
   "source": [
    "Дубликаты в таблице `users` повторяют существующие поездки пользователей. Удалим их дня более корректного анализа."
   ]
  },
  {
   "cell_type": "code",
   "execution_count": 14,
   "id": "bc0ed454",
   "metadata": {},
   "outputs": [
    {
     "data": {
      "text/plain": [
       "0"
      ]
     },
     "metadata": {},
     "output_type": "display_data"
    }
   ],
   "source": [
    "users = users.drop_duplicates()\n",
    "display(users.duplicated().sum())"
   ]
  },
  {
   "cell_type": "markdown",
   "id": "efdba6f3",
   "metadata": {},
   "source": [
    "+ rides (Поездки)"
   ]
  },
  {
   "cell_type": "code",
   "execution_count": 15,
   "id": "675a3225",
   "metadata": {},
   "outputs": [
    {
     "name": "stdout",
     "output_type": "stream",
     "text": [
      "Количество пропусков в таблице \"rides\": user_id     0\n",
      "distance    0\n",
      "duration    0\n",
      "date        0\n",
      "month       0\n",
      "dtype: int64\n",
      "Количество дубликатов в таблице \"rides\": 0\n"
     ]
    }
   ],
   "source": [
    "print('Количество пропусков в таблице \"rides\":', rides.isna().sum())\n",
    "print('Количество дубликатов в таблице \"rides\":', rides.duplicated().sum())"
   ]
  },
  {
   "cell_type": "markdown",
   "id": "5a2f6e5a",
   "metadata": {},
   "source": [
    "+ subscriptions (Тариф)"
   ]
  },
  {
   "cell_type": "code",
   "execution_count": 16,
   "id": "43c09c87",
   "metadata": {},
   "outputs": [
    {
     "name": "stdout",
     "output_type": "stream",
     "text": [
      "Количество пропусков в таблице \"subscriptions\": subscription_type    0\n",
      "minute_price         0\n",
      "start_ride_price     0\n",
      "subscription_fee     0\n",
      "dtype: int64\n",
      "Количество дубликатов в таблице \"subscriptions\": 0\n"
     ]
    }
   ],
   "source": [
    "print('Количество пропусков в таблице \"subscriptions\":', subscriptions.isna().sum())\n",
    "print('Количество дубликатов в таблице \"subscriptions\":',subscriptions.duplicated().sum())"
   ]
  },
  {
   "cell_type": "markdown",
   "id": "9eeea19b",
   "metadata": {},
   "source": [
    "Вывод: Пропусков нет. Добавлен столбец 'month'. Удалены дубликаты из датасета `users`."
   ]
  },
  {
   "cell_type": "markdown",
   "id": "0fefc687",
   "metadata": {},
   "source": [
    "## Исследовательский анализ данных."
   ]
  },
  {
   "cell_type": "code",
   "execution_count": 17,
   "id": "90d20da7",
   "metadata": {},
   "outputs": [],
   "source": [
    "# Копирование значений, а не ссылок, через b = copy.deepcopy(a)\n",
    "import copy"
   ]
  },
  {
   "cell_type": "code",
   "execution_count": 18,
   "id": "d00fab59",
   "metadata": {},
   "outputs": [],
   "source": [
    "# Функция визуализации столбцов с количественными данными\n",
    "def quantity_go(data, column, bins_num, xlabel, ylabel, title):\n",
    "    print('Название столбца:', column)\n",
    "    data[column].hist(bins=bins_num)\n",
    "    plt.gca().set(xlabel=f'${xlabel}$', ylabel=f'${ylabel}$')\n",
    "    plt.title(f'{title}')\n",
    "    plt.show()\n",
    "    print('Описание датафрейма:')\n",
    "    print(data[column].describe().round(0))"
   ]
  },
  {
   "cell_type": "code",
   "execution_count": 19,
   "id": "5f030dfa",
   "metadata": {},
   "outputs": [
    {
     "data": {
      "text/html": [
       "<div>\n",
       "<style scoped>\n",
       "    .dataframe tbody tr th:only-of-type {\n",
       "        vertical-align: middle;\n",
       "    }\n",
       "\n",
       "    .dataframe tbody tr th {\n",
       "        vertical-align: top;\n",
       "    }\n",
       "\n",
       "    .dataframe thead th {\n",
       "        text-align: right;\n",
       "    }\n",
       "</style>\n",
       "<table border=\"1\" class=\"dataframe\">\n",
       "  <thead>\n",
       "    <tr style=\"text-align: right;\">\n",
       "      <th></th>\n",
       "      <th>subscription_type</th>\n",
       "      <th>minute_price</th>\n",
       "      <th>start_ride_price</th>\n",
       "      <th>subscription_fee</th>\n",
       "    </tr>\n",
       "  </thead>\n",
       "  <tbody>\n",
       "    <tr>\n",
       "      <th>0</th>\n",
       "      <td>free</td>\n",
       "      <td>8</td>\n",
       "      <td>50</td>\n",
       "      <td>0</td>\n",
       "    </tr>\n",
       "    <tr>\n",
       "      <th>1</th>\n",
       "      <td>ultra</td>\n",
       "      <td>6</td>\n",
       "      <td>0</td>\n",
       "      <td>199</td>\n",
       "    </tr>\n",
       "  </tbody>\n",
       "</table>\n",
       "</div>"
      ],
      "text/plain": [
       "  subscription_type  minute_price  start_ride_price  subscription_fee\n",
       "0              free             8                50                 0\n",
       "1             ultra             6                 0               199"
      ]
     },
     "execution_count": 19,
     "metadata": {},
     "output_type": "execute_result"
    }
   ],
   "source": [
    "# Функция для более наглядного отображения значений\n",
    "# 'ultra' и 'free' в поле 'subscription_type' разных датафреймов\n",
    "def subscriptions_go_translate(data):\n",
    "    result = copy.deepcopy(data)\n",
    "    result.loc[result['subscription_type'] == True, 'subscription_type'] = 'ultra'\n",
    "    result.loc[result['subscription_type'] == False, 'subscription_type'] = 'free'\n",
    "    return result\n",
    "\n",
    "subscriptions_go_translate(subscriptions).head()"
   ]
  },
  {
   "cell_type": "code",
   "execution_count": 20,
   "id": "e3a4274c",
   "metadata": {},
   "outputs": [],
   "source": [
    "def quality_go_groupby(data, column):\n",
    "    if 'subscription_fee' in subscriptions.columns:\n",
    "        result = subscriptions_go_translate(data).groupby([column])[column].agg(['count']).sort_values(by='count')\n",
    "    else:\n",
    "        result = data.groupby([column])[column].agg(['count']).sort_values(by='count')\n",
    "    #result = data.groupby([column])[column].agg(['count']).sort_values(by='count')\n",
    "    #, ascending=False)\n",
    "    result['percent'] = result['count'] / result['count'].sum()\n",
    "    return result"
   ]
  },
  {
   "cell_type": "code",
   "execution_count": 21,
   "id": "8bf749fc",
   "metadata": {},
   "outputs": [],
   "source": [
    "def quality_go(data, column, xlabel, ylabel, title):\n",
    "    print('Название столбца:', column)\n",
    "    go = quality_go_groupby(data, column)\n",
    "    go.columns = {'Количество':'count', 'Доля':'percent'}\n",
    "    \n",
    "    #quality_go_groupby(data, column).plot(kind='bar')\n",
    "    \n",
    "    plt.barh(\n",
    "        go.index, \n",
    "        go['Количество'].values\n",
    "    )\n",
    "    plt.gca().set(xlabel=f'${xlabel}$', ylabel=f'${ylabel}$')\n",
    "    plt.title(f'{title}')\n",
    "    plt.show()\n",
    "    \n",
    "    print('Значения датафрейма:')\n",
    "    print(go)\n",
    "    print('\\nОписание датафрейма:')\n",
    "    print(go.describe())"
   ]
  },
  {
   "cell_type": "markdown",
   "id": "f0d8edda",
   "metadata": {},
   "source": [
    "### частота встречаемости городов"
   ]
  },
  {
   "cell_type": "code",
   "execution_count": 22,
   "id": "c20e4032",
   "metadata": {
    "scrolled": false
   },
   "outputs": [
    {
     "name": "stdout",
     "output_type": "stream",
     "text": [
      "Название столбца: city\n"
     ]
    },
    {
     "data": {
      "image/png": "[encoded data removed]",
      "text/plain": [
       "<Figure size 640x480 with 1 Axes>"
      ]
     },
     "metadata": {},
     "output_type": "display_data"
    },
    {
     "name": "stdout",
     "output_type": "stream",
     "text": [
      "Значения датафрейма:\n",
      "                Количество      Доля\n",
      "city                                \n",
      "Москва                 168  0.109518\n",
      "Тюмень                 180  0.117340\n",
      "Омск                   183  0.119296\n",
      "Сочи                   189  0.123207\n",
      "Краснодар              193  0.125815\n",
      "Ростов-на-Дону         198  0.129074\n",
      "Екатеринбург           204  0.132986\n",
      "Пятигорск              219  0.142764\n",
      "\n",
      "Описание датафрейма:\n",
      "       Количество      Доля\n",
      "count    8.000000  8.000000\n",
      "mean   191.750000  0.125000\n",
      "std     15.672998  0.010217\n",
      "min    168.000000  0.109518\n",
      "25%    182.250000  0.118807\n",
      "50%    191.000000  0.124511\n",
      "75%    199.500000  0.130052\n",
      "max    219.000000  0.142764\n"
     ]
    }
   ],
   "source": [
    "quality_go(\n",
    "    users, \n",
    "    'city', \n",
    "    'Количество_ использований_ сервиса', \n",
    "    'Города', \n",
    "    'Количество использований сервиса в разных городах'\n",
    ")"
   ]
  },
  {
   "cell_type": "markdown",
   "id": "447772bf",
   "metadata": {},
   "source": [
    "Вывод: Чаще всего в Датасете встречается Пятигорск (226 значений), на втором месте Екатеринбург(206 значений). Меньше всего сервис используют в Москве (172 значения)."
   ]
  },
  {
   "cell_type": "markdown",
   "id": "6429ce34",
   "metadata": {},
   "source": [
    "### соотношение пользователей с подпиской и без подписки"
   ]
  },
  {
   "cell_type": "code",
   "execution_count": 23,
   "id": "feb4dec3",
   "metadata": {},
   "outputs": [
    {
     "name": "stdout",
     "output_type": "stream",
     "text": [
      "Название столбца: subscription_type\n"
     ]
    },
    {
     "data": {
      "image/png": "[encoded data removed]",
      "text/plain": [
       "<Figure size 640x480 with 1 Axes>"
      ]
     },
     "metadata": {},
     "output_type": "display_data"
    },
    {
     "name": "stdout",
     "output_type": "stream",
     "text": [
      "Значения датафрейма:\n",
      "                   Количество      Доля\n",
      "subscription_type                      \n",
      "ultra                     699  0.455671\n",
      "free                      835  0.544329\n",
      "\n",
      "Описание датафрейма:\n",
      "       Количество      Доля\n",
      "count    2.000000  2.000000\n",
      "mean   767.000000  0.500000\n",
      "std     96.166522  0.062690\n",
      "min    699.000000  0.455671\n",
      "25%    733.000000  0.477836\n",
      "50%    767.000000  0.500000\n",
      "75%    801.000000  0.522164\n",
      "max    835.000000  0.544329\n"
     ]
    }
   ],
   "source": [
    "quality_go(\n",
    "    users, \n",
    "    'subscription_type', \n",
    "    'Количество значений', \n",
    "    'Подписки', \n",
    "    'Количество использований разного типа подписок'\n",
    ")"
   ]
  },
  {
   "cell_type": "markdown",
   "id": "66fb75e1",
   "metadata": {},
   "source": [
    "Вывод: Количество пользователей с подпиской на 130 значений меньше, чем без подписки. "
   ]
  },
  {
   "cell_type": "markdown",
   "id": "f0ed7b29",
   "metadata": {},
   "source": [
    "### возраст пользователей"
   ]
  },
  {
   "cell_type": "code",
   "execution_count": 24,
   "id": "9a431382",
   "metadata": {},
   "outputs": [
    {
     "name": "stdout",
     "output_type": "stream",
     "text": [
      "Название столбца: age\n"
     ]
    },
    {
     "data": {
      "image/png": "[encoded data removed]",
      "text/plain": [
       "<Figure size 640x480 with 1 Axes>"
      ]
     },
     "metadata": {},
     "output_type": "display_data"
    },
    {
     "name": "stdout",
     "output_type": "stream",
     "text": [
      "Описание датафрейма:\n",
      "count    1534.0\n",
      "mean       25.0\n",
      "std         5.0\n",
      "min        12.0\n",
      "25%        22.0\n",
      "50%        25.0\n",
      "75%        28.0\n",
      "max        43.0\n",
      "Name: age, dtype: float64\n"
     ]
    },
    {
     "data": {
      "text/plain": [
       "<AxesSubplot:xlabel='age'>"
      ]
     },
     "execution_count": 24,
     "metadata": {},
     "output_type": "execute_result"
    },
    {
     "data": {
      "image/png": "[encoded data removed]",
      "text/plain": [
       "<Figure size 640x480 with 1 Axes>"
      ]
     },
     "metadata": {},
     "output_type": "display_data"
    }
   ],
   "source": [
    "quantity_go(\n",
    "    users, \n",
    "    'age', \n",
    "    users['age'].max()-users['age'].min(),\n",
    "    'Возраст', \n",
    "    'Количество значений', \n",
    "    'Количество пользователей по возрасту'\n",
    ")\n",
    "sns.boxplot(x=  users['age'])"
   ]
  },
  {
   "cell_type": "markdown",
   "id": "7d9cc002",
   "metadata": {},
   "source": [
    "Вывод: Средний возраст пользователей - 25 лет. Стоит заметить, что среднее является модой и медианой.В данном случае, распределение является нормальным."
   ]
  },
  {
   "cell_type": "markdown",
   "id": "e71669fd",
   "metadata": {},
   "source": [
    "### расстояние, которое пользователь преодолел за одну поездку"
   ]
  },
  {
   "cell_type": "code",
   "execution_count": 25,
   "id": "e3a8629c",
   "metadata": {},
   "outputs": [
    {
     "name": "stdout",
     "output_type": "stream",
     "text": [
      "Название столбца: distance\n"
     ]
    },
    {
     "data": {
      "image/png": "[encoded data removed]",
      "text/plain": [
       "<Figure size 640x480 with 1 Axes>"
      ]
     },
     "metadata": {},
     "output_type": "display_data"
    },
    {
     "name": "stdout",
     "output_type": "stream",
     "text": [
      "Описание датафрейма:\n",
      "count    18068.0\n",
      "mean      3071.0\n",
      "std       1117.0\n",
      "min          1.0\n",
      "25%       2543.0\n",
      "50%       3134.0\n",
      "75%       3776.0\n",
      "max       7211.0\n",
      "Name: distance, dtype: float64\n"
     ]
    },
    {
     "data": {
      "text/plain": [
       "<AxesSubplot:xlabel='distance'>"
      ]
     },
     "execution_count": 25,
     "metadata": {},
     "output_type": "execute_result"
    },
    {
     "data": {
      "image/png": "[encoded data removed]",
      "text/plain": [
       "<Figure size 640x480 with 1 Axes>"
      ]
     },
     "metadata": {},
     "output_type": "display_data"
    }
   ],
   "source": [
    "quantity_go(\n",
    "    rides, \n",
    "    'distance', \n",
    "    int((rides['distance'].max()-rides['distance'].min()) / 100),\n",
    "    'Расстояние', \n",
    "    'Количество значений', \n",
    "    'Количество пользователей по расстоянию'\n",
    ")\n",
    "sns.boxplot(x= rides['distance'])"
   ]
  },
  {
   "cell_type": "markdown",
   "id": "bd9f299f",
   "metadata": {},
   "source": [
    "Вывод: За одну поездку пользователи преодолевают от 1 до 7211 метров. Медиана всех значений равна 3134 метров. Наблюдаются два пика. Малый пик около 700 метров, большой пик около 3200 метров. Между пиками значения нормально распределены."
   ]
  },
  {
   "cell_type": "markdown",
   "id": "28d03b5a",
   "metadata": {},
   "source": [
    "### продолжительность поездок"
   ]
  },
  {
   "cell_type": "code",
   "execution_count": 26,
   "id": "2059fb6e",
   "metadata": {},
   "outputs": [
    {
     "name": "stdout",
     "output_type": "stream",
     "text": [
      "Название столбца: duration\n"
     ]
    },
    {
     "data": {
      "image/png": "[encoded data removed]",
      "text/plain": [
       "<Figure size 640x480 with 1 Axes>"
      ]
     },
     "metadata": {},
     "output_type": "display_data"
    },
    {
     "name": "stdout",
     "output_type": "stream",
     "text": [
      "Описание датафрейма:\n",
      "count    18068.0\n",
      "mean        18.0\n",
      "std          6.0\n",
      "min          0.0\n",
      "25%         14.0\n",
      "50%         18.0\n",
      "75%         22.0\n",
      "max         41.0\n",
      "Name: duration, dtype: float64\n"
     ]
    },
    {
     "data": {
      "text/plain": [
       "<AxesSubplot:xlabel='duration'>"
      ]
     },
     "execution_count": 26,
     "metadata": {},
     "output_type": "execute_result"
    },
    {
     "data": {
      "image/png": "[encoded data removed]",
      "text/plain": [
       "<Figure size 640x480 with 1 Axes>"
      ]
     },
     "metadata": {},
     "output_type": "display_data"
    }
   ],
   "source": [
    "quantity_go(\n",
    "    rides, \n",
    "    'duration', \n",
    "    int((rides['duration'].max()-rides['duration'].min())),\n",
    "    'Продолжительность одной поездки', \n",
    "    'Количество значений', \n",
    "    'Количество пользователей по продолжительности одной поездки'\n",
    ")\n",
    "\n",
    "sns.boxplot(x= rides['duration'])"
   ]
  },
  {
   "cell_type": "markdown",
   "id": "a0ba7c64",
   "metadata": {},
   "source": [
    "Вывод: Продолжительность поездок нормально распределена от 0 до 41 минуты. Продолжительность в 18 минут является как наиболее распространенной так и медианным значением."
   ]
  },
  {
   "cell_type": "markdown",
   "id": "6af3f565",
   "metadata": {},
   "source": [
    "## Объединение данных"
   ]
  },
  {
   "cell_type": "code",
   "execution_count": 27,
   "id": "20f87815",
   "metadata": {},
   "outputs": [
    {
     "name": "stdout",
     "output_type": "stream",
     "text": [
      "<class 'pandas.core.frame.DataFrame'>\n",
      "Int64Index: 1534 entries, 0 to 1533\n",
      "Data columns (total 5 columns):\n",
      " #   Column             Non-Null Count  Dtype \n",
      "---  ------             --------------  ----- \n",
      " 0   user_id            1534 non-null   int64 \n",
      " 1   name               1534 non-null   object\n",
      " 2   age                1534 non-null   int64 \n",
      " 3   city               1534 non-null   object\n",
      " 4   subscription_type  1534 non-null   object\n",
      "dtypes: int64(2), object(3)\n",
      "memory usage: 71.9+ KB\n",
      "<class 'pandas.core.frame.DataFrame'>\n",
      "RangeIndex: 18068 entries, 0 to 18067\n",
      "Data columns (total 5 columns):\n",
      " #   Column    Non-Null Count  Dtype         \n",
      "---  ------    --------------  -----         \n",
      " 0   user_id   18068 non-null  int64         \n",
      " 1   distance  18068 non-null  float64       \n",
      " 2   duration  18068 non-null  float64       \n",
      " 3   date      18068 non-null  datetime64[ns]\n",
      " 4   month     18068 non-null  int64         \n",
      "dtypes: datetime64[ns](1), float64(2), int64(2)\n",
      "memory usage: 705.9 KB\n",
      "<class 'pandas.core.frame.DataFrame'>\n",
      "RangeIndex: 2 entries, 0 to 1\n",
      "Data columns (total 4 columns):\n",
      " #   Column             Non-Null Count  Dtype \n",
      "---  ------             --------------  ----- \n",
      " 0   subscription_type  2 non-null      object\n",
      " 1   minute_price       2 non-null      int64 \n",
      " 2   start_ride_price   2 non-null      int64 \n",
      " 3   subscription_fee   2 non-null      int64 \n",
      "dtypes: int64(3), object(1)\n",
      "memory usage: 192.0+ bytes\n"
     ]
    }
   ],
   "source": [
    "#users.shape()\n",
    "#rides.shape()\n",
    "#subscriptions.shape()\n",
    "\n",
    "# Можем посмотреть размерность через метод info(), но мы уже смотрели.\n",
    "users.info()\n",
    "rides.info()\n",
    "subscriptions.info()"
   ]
  },
  {
   "cell_type": "markdown",
   "id": "ba4dbad3",
   "metadata": {},
   "source": [
    "Вывод: \n",
    "+ Количество строк в `users` = 1534\n",
    "+ Количество строк в `rides` = 18068\n",
    "+ Количество строк в `subscriptions` = 2 \n",
    "\n",
    "Объединить таблицы мы можем первую и вторую по столбцу `user_id`. Добавляем к таблице `users`, таблицу `rides`. После чего добавим таблицу `subscriptions` по столбцу `subscription_type`.\n",
    "    "
   ]
  },
  {
   "cell_type": "code",
   "execution_count": 28,
   "id": "6da9208f",
   "metadata": {},
   "outputs": [
    {
     "data": {
      "text/html": [
       "<div>\n",
       "<style scoped>\n",
       "    .dataframe tbody tr th:only-of-type {\n",
       "        vertical-align: middle;\n",
       "    }\n",
       "\n",
       "    .dataframe tbody tr th {\n",
       "        vertical-align: top;\n",
       "    }\n",
       "\n",
       "    .dataframe thead th {\n",
       "        text-align: right;\n",
       "    }\n",
       "</style>\n",
       "<table border=\"1\" class=\"dataframe\">\n",
       "  <thead>\n",
       "    <tr style=\"text-align: right;\">\n",
       "      <th></th>\n",
       "      <th>user_id</th>\n",
       "      <th>name</th>\n",
       "      <th>age</th>\n",
       "      <th>city</th>\n",
       "      <th>subscription_type</th>\n",
       "      <th>distance</th>\n",
       "      <th>duration</th>\n",
       "      <th>date</th>\n",
       "      <th>month</th>\n",
       "      <th>minute_price</th>\n",
       "      <th>start_ride_price</th>\n",
       "      <th>subscription_fee</th>\n",
       "    </tr>\n",
       "  </thead>\n",
       "  <tbody>\n",
       "    <tr>\n",
       "      <th>0</th>\n",
       "      <td>1</td>\n",
       "      <td>Кира</td>\n",
       "      <td>22</td>\n",
       "      <td>Тюмень</td>\n",
       "      <td>ultra</td>\n",
       "      <td>4409.919140</td>\n",
       "      <td>25.599769</td>\n",
       "      <td>2021-01-01</td>\n",
       "      <td>1</td>\n",
       "      <td>6</td>\n",
       "      <td>0</td>\n",
       "      <td>199</td>\n",
       "    </tr>\n",
       "    <tr>\n",
       "      <th>1</th>\n",
       "      <td>1</td>\n",
       "      <td>Кира</td>\n",
       "      <td>22</td>\n",
       "      <td>Тюмень</td>\n",
       "      <td>ultra</td>\n",
       "      <td>2617.592153</td>\n",
       "      <td>15.816871</td>\n",
       "      <td>2021-01-18</td>\n",
       "      <td>1</td>\n",
       "      <td>6</td>\n",
       "      <td>0</td>\n",
       "      <td>199</td>\n",
       "    </tr>\n",
       "    <tr>\n",
       "      <th>2</th>\n",
       "      <td>1</td>\n",
       "      <td>Кира</td>\n",
       "      <td>22</td>\n",
       "      <td>Тюмень</td>\n",
       "      <td>ultra</td>\n",
       "      <td>754.159807</td>\n",
       "      <td>6.232113</td>\n",
       "      <td>2021-04-20</td>\n",
       "      <td>4</td>\n",
       "      <td>6</td>\n",
       "      <td>0</td>\n",
       "      <td>199</td>\n",
       "    </tr>\n",
       "    <tr>\n",
       "      <th>3</th>\n",
       "      <td>1</td>\n",
       "      <td>Кира</td>\n",
       "      <td>22</td>\n",
       "      <td>Тюмень</td>\n",
       "      <td>ultra</td>\n",
       "      <td>2694.783254</td>\n",
       "      <td>18.511000</td>\n",
       "      <td>2021-08-11</td>\n",
       "      <td>8</td>\n",
       "      <td>6</td>\n",
       "      <td>0</td>\n",
       "      <td>199</td>\n",
       "    </tr>\n",
       "    <tr>\n",
       "      <th>4</th>\n",
       "      <td>1</td>\n",
       "      <td>Кира</td>\n",
       "      <td>22</td>\n",
       "      <td>Тюмень</td>\n",
       "      <td>ultra</td>\n",
       "      <td>4028.687306</td>\n",
       "      <td>26.265803</td>\n",
       "      <td>2021-08-28</td>\n",
       "      <td>8</td>\n",
       "      <td>6</td>\n",
       "      <td>0</td>\n",
       "      <td>199</td>\n",
       "    </tr>\n",
       "  </tbody>\n",
       "</table>\n",
       "</div>"
      ],
      "text/plain": [
       "   user_id  name  age    city subscription_type     distance   duration  \\\n",
       "0        1  Кира   22  Тюмень             ultra  4409.919140  25.599769   \n",
       "1        1  Кира   22  Тюмень             ultra  2617.592153  15.816871   \n",
       "2        1  Кира   22  Тюмень             ultra   754.159807   6.232113   \n",
       "3        1  Кира   22  Тюмень             ultra  2694.783254  18.511000   \n",
       "4        1  Кира   22  Тюмень             ultra  4028.687306  26.265803   \n",
       "\n",
       "        date  month  minute_price  start_ride_price  subscription_fee  \n",
       "0 2021-01-01      1             6                 0               199  \n",
       "1 2021-01-18      1             6                 0               199  \n",
       "2 2021-04-20      4             6                 0               199  \n",
       "3 2021-08-11      8             6                 0               199  \n",
       "4 2021-08-28      8             6                 0               199  "
      ]
     },
     "metadata": {},
     "output_type": "display_data"
    },
    {
     "name": "stdout",
     "output_type": "stream",
     "text": [
      "<class 'pandas.core.frame.DataFrame'>\n",
      "Int64Index: 18068 entries, 0 to 18067\n",
      "Data columns (total 12 columns):\n",
      " #   Column             Non-Null Count  Dtype         \n",
      "---  ------             --------------  -----         \n",
      " 0   user_id            18068 non-null  int64         \n",
      " 1   name               18068 non-null  object        \n",
      " 2   age                18068 non-null  int64         \n",
      " 3   city               18068 non-null  object        \n",
      " 4   subscription_type  18068 non-null  object        \n",
      " 5   distance           18068 non-null  float64       \n",
      " 6   duration           18068 non-null  float64       \n",
      " 7   date               18068 non-null  datetime64[ns]\n",
      " 8   month              18068 non-null  int64         \n",
      " 9   minute_price       18068 non-null  int64         \n",
      " 10  start_ride_price   18068 non-null  int64         \n",
      " 11  subscription_fee   18068 non-null  int64         \n",
      "dtypes: datetime64[ns](1), float64(2), int64(6), object(3)\n",
      "memory usage: 1.8+ MB\n",
      "Количество пропущенных значений: user_id              0\n",
      "name                 0\n",
      "age                  0\n",
      "city                 0\n",
      "subscription_type    0\n",
      "distance             0\n",
      "duration             0\n",
      "date                 0\n",
      "month                0\n",
      "minute_price         0\n",
      "start_ride_price     0\n",
      "subscription_fee     0\n",
      "dtype: int64\n"
     ]
    }
   ],
   "source": [
    "# Общая таблица с данными\n",
    "total = users.merge(rides, on='user_id').merge(subscriptions, on='subscription_type')\n",
    "display(total.head())\n",
    "total.info()\n",
    "print('Количество пропущенных значений:', total.isna().sum())"
   ]
  },
  {
   "cell_type": "code",
   "execution_count": 29,
   "id": "e8aaeab9",
   "metadata": {},
   "outputs": [
    {
     "name": "stdout",
     "output_type": "stream",
     "text": [
      "Количество строк (поездок) в 'rides': 18068\n",
      "Количество строк (поездок) в 'total': 18068\n",
      "\n",
      "Количество уникальных пользователей в 'users': 1534\n",
      "Количество уникальных пользователей в 'total': 1534\n"
     ]
    }
   ],
   "source": [
    "print(\"Количество строк (поездок) в 'rides':\", rides['user_id'].count())\n",
    "print(\"Количество строк (поездок) в 'total':\", total['user_id'].count())\n",
    "print()\n",
    "print(\"Количество уникальных пользователей в 'users':\", len(users['user_id'].unique()))\n",
    "print(\"Количество уникальных пользователей в 'total':\", len(total['user_id'].unique()))"
   ]
  },
  {
   "cell_type": "markdown",
   "id": "99fdbf47",
   "metadata": {},
   "source": []
  },
  {
   "cell_type": "code",
   "execution_count": 30,
   "id": "417f96bc",
   "metadata": {},
   "outputs": [
    {
     "data": {
      "text/html": [
       "<div>\n",
       "<style scoped>\n",
       "    .dataframe tbody tr th:only-of-type {\n",
       "        vertical-align: middle;\n",
       "    }\n",
       "\n",
       "    .dataframe tbody tr th {\n",
       "        vertical-align: top;\n",
       "    }\n",
       "\n",
       "    .dataframe thead th {\n",
       "        text-align: right;\n",
       "    }\n",
       "</style>\n",
       "<table border=\"1\" class=\"dataframe\">\n",
       "  <thead>\n",
       "    <tr style=\"text-align: right;\">\n",
       "      <th></th>\n",
       "      <th>user_id</th>\n",
       "      <th>age</th>\n",
       "      <th>distance</th>\n",
       "      <th>duration</th>\n",
       "      <th>month</th>\n",
       "      <th>minute_price</th>\n",
       "      <th>start_ride_price</th>\n",
       "      <th>subscription_fee</th>\n",
       "    </tr>\n",
       "  </thead>\n",
       "  <tbody>\n",
       "    <tr>\n",
       "      <th>count</th>\n",
       "      <td>18068.000000</td>\n",
       "      <td>18068.000000</td>\n",
       "      <td>18068.000000</td>\n",
       "      <td>18068.000000</td>\n",
       "      <td>18068.000000</td>\n",
       "      <td>18068.000000</td>\n",
       "      <td>18068.000000</td>\n",
       "      <td>18068.000000</td>\n",
       "    </tr>\n",
       "    <tr>\n",
       "      <th>mean</th>\n",
       "      <td>842.869936</td>\n",
       "      <td>24.893071</td>\n",
       "      <td>3070.659976</td>\n",
       "      <td>17.805011</td>\n",
       "      <td>6.486772</td>\n",
       "      <td>7.280496</td>\n",
       "      <td>32.012398</td>\n",
       "      <td>71.590658</td>\n",
       "    </tr>\n",
       "    <tr>\n",
       "      <th>std</th>\n",
       "      <td>434.734317</td>\n",
       "      <td>4.582216</td>\n",
       "      <td>1116.831209</td>\n",
       "      <td>6.091051</td>\n",
       "      <td>3.437410</td>\n",
       "      <td>0.959882</td>\n",
       "      <td>23.997045</td>\n",
       "      <td>95.508238</td>\n",
       "    </tr>\n",
       "    <tr>\n",
       "      <th>min</th>\n",
       "      <td>1.000000</td>\n",
       "      <td>12.000000</td>\n",
       "      <td>0.855683</td>\n",
       "      <td>0.500000</td>\n",
       "      <td>1.000000</td>\n",
       "      <td>6.000000</td>\n",
       "      <td>0.000000</td>\n",
       "      <td>0.000000</td>\n",
       "    </tr>\n",
       "    <tr>\n",
       "      <th>25%</th>\n",
       "      <td>487.000000</td>\n",
       "      <td>22.000000</td>\n",
       "      <td>2543.226360</td>\n",
       "      <td>13.597563</td>\n",
       "      <td>4.000000</td>\n",
       "      <td>6.000000</td>\n",
       "      <td>0.000000</td>\n",
       "      <td>0.000000</td>\n",
       "    </tr>\n",
       "    <tr>\n",
       "      <th>50%</th>\n",
       "      <td>889.000000</td>\n",
       "      <td>25.000000</td>\n",
       "      <td>3133.609994</td>\n",
       "      <td>17.678395</td>\n",
       "      <td>6.000000</td>\n",
       "      <td>8.000000</td>\n",
       "      <td>50.000000</td>\n",
       "      <td>0.000000</td>\n",
       "    </tr>\n",
       "    <tr>\n",
       "      <th>75%</th>\n",
       "      <td>1213.250000</td>\n",
       "      <td>28.000000</td>\n",
       "      <td>3776.222735</td>\n",
       "      <td>21.724800</td>\n",
       "      <td>9.000000</td>\n",
       "      <td>8.000000</td>\n",
       "      <td>50.000000</td>\n",
       "      <td>199.000000</td>\n",
       "    </tr>\n",
       "    <tr>\n",
       "      <th>max</th>\n",
       "      <td>1534.000000</td>\n",
       "      <td>43.000000</td>\n",
       "      <td>7211.007745</td>\n",
       "      <td>40.823963</td>\n",
       "      <td>12.000000</td>\n",
       "      <td>8.000000</td>\n",
       "      <td>50.000000</td>\n",
       "      <td>199.000000</td>\n",
       "    </tr>\n",
       "  </tbody>\n",
       "</table>\n",
       "</div>"
      ],
      "text/plain": [
       "            user_id           age      distance      duration         month  \\\n",
       "count  18068.000000  18068.000000  18068.000000  18068.000000  18068.000000   \n",
       "mean     842.869936     24.893071   3070.659976     17.805011      6.486772   \n",
       "std      434.734317      4.582216   1116.831209      6.091051      3.437410   \n",
       "min        1.000000     12.000000      0.855683      0.500000      1.000000   \n",
       "25%      487.000000     22.000000   2543.226360     13.597563      4.000000   \n",
       "50%      889.000000     25.000000   3133.609994     17.678395      6.000000   \n",
       "75%     1213.250000     28.000000   3776.222735     21.724800      9.000000   \n",
       "max     1534.000000     43.000000   7211.007745     40.823963     12.000000   \n",
       "\n",
       "       minute_price  start_ride_price  subscription_fee  \n",
       "count  18068.000000      18068.000000      18068.000000  \n",
       "mean       7.280496         32.012398         71.590658  \n",
       "std        0.959882         23.997045         95.508238  \n",
       "min        6.000000          0.000000          0.000000  \n",
       "25%        6.000000          0.000000          0.000000  \n",
       "50%        8.000000         50.000000          0.000000  \n",
       "75%        8.000000         50.000000        199.000000  \n",
       "max        8.000000         50.000000        199.000000  "
      ]
     },
     "metadata": {},
     "output_type": "display_data"
    }
   ],
   "source": [
    "display(total.describe())"
   ]
  },
  {
   "cell_type": "markdown",
   "id": "e341dd60",
   "metadata": {},
   "source": [
    "Вывод: Всего пользователей с подпиской и без 18388. Средний возраст - 25 лет. Расстояние, которые проезжают пользователи от 0,85 метров до  7211 метров на одну поездку."
   ]
  },
  {
   "cell_type": "markdown",
   "id": "06eec281",
   "metadata": {},
   "source": []
  },
  {
   "cell_type": "markdown",
   "id": "3571a74c",
   "metadata": {},
   "source": [
    "### Изучение данных без подписки"
   ]
  },
  {
   "cell_type": "code",
   "execution_count": 31,
   "id": "7fe3188d",
   "metadata": {},
   "outputs": [
    {
     "data": {
      "text/html": [
       "<div>\n",
       "<style scoped>\n",
       "    .dataframe tbody tr th:only-of-type {\n",
       "        vertical-align: middle;\n",
       "    }\n",
       "\n",
       "    .dataframe tbody tr th {\n",
       "        vertical-align: top;\n",
       "    }\n",
       "\n",
       "    .dataframe thead th {\n",
       "        text-align: right;\n",
       "    }\n",
       "</style>\n",
       "<table border=\"1\" class=\"dataframe\">\n",
       "  <thead>\n",
       "    <tr style=\"text-align: right;\">\n",
       "      <th></th>\n",
       "      <th>user_id</th>\n",
       "      <th>name</th>\n",
       "      <th>age</th>\n",
       "      <th>city</th>\n",
       "      <th>subscription_type</th>\n",
       "      <th>distance</th>\n",
       "      <th>duration</th>\n",
       "      <th>date</th>\n",
       "      <th>month</th>\n",
       "      <th>minute_price</th>\n",
       "      <th>start_ride_price</th>\n",
       "      <th>subscription_fee</th>\n",
       "    </tr>\n",
       "  </thead>\n",
       "  <tbody>\n",
       "    <tr>\n",
       "      <th>6500</th>\n",
       "      <td>700</td>\n",
       "      <td>Айдар</td>\n",
       "      <td>22</td>\n",
       "      <td>Омск</td>\n",
       "      <td>free</td>\n",
       "      <td>2515.690719</td>\n",
       "      <td>14.944286</td>\n",
       "      <td>2021-01-02</td>\n",
       "      <td>1</td>\n",
       "      <td>8</td>\n",
       "      <td>50</td>\n",
       "      <td>0</td>\n",
       "    </tr>\n",
       "    <tr>\n",
       "      <th>6501</th>\n",
       "      <td>700</td>\n",
       "      <td>Айдар</td>\n",
       "      <td>22</td>\n",
       "      <td>Омск</td>\n",
       "      <td>free</td>\n",
       "      <td>846.932642</td>\n",
       "      <td>16.234663</td>\n",
       "      <td>2021-02-01</td>\n",
       "      <td>2</td>\n",
       "      <td>8</td>\n",
       "      <td>50</td>\n",
       "      <td>0</td>\n",
       "    </tr>\n",
       "    <tr>\n",
       "      <th>6502</th>\n",
       "      <td>700</td>\n",
       "      <td>Айдар</td>\n",
       "      <td>22</td>\n",
       "      <td>Омск</td>\n",
       "      <td>free</td>\n",
       "      <td>4004.434142</td>\n",
       "      <td>20.016628</td>\n",
       "      <td>2021-02-04</td>\n",
       "      <td>2</td>\n",
       "      <td>8</td>\n",
       "      <td>50</td>\n",
       "      <td>0</td>\n",
       "    </tr>\n",
       "    <tr>\n",
       "      <th>6503</th>\n",
       "      <td>700</td>\n",
       "      <td>Айдар</td>\n",
       "      <td>22</td>\n",
       "      <td>Омск</td>\n",
       "      <td>free</td>\n",
       "      <td>1205.911290</td>\n",
       "      <td>9.782872</td>\n",
       "      <td>2021-02-10</td>\n",
       "      <td>2</td>\n",
       "      <td>8</td>\n",
       "      <td>50</td>\n",
       "      <td>0</td>\n",
       "    </tr>\n",
       "    <tr>\n",
       "      <th>6504</th>\n",
       "      <td>700</td>\n",
       "      <td>Айдар</td>\n",
       "      <td>22</td>\n",
       "      <td>Омск</td>\n",
       "      <td>free</td>\n",
       "      <td>3047.379435</td>\n",
       "      <td>17.427673</td>\n",
       "      <td>2021-02-14</td>\n",
       "      <td>2</td>\n",
       "      <td>8</td>\n",
       "      <td>50</td>\n",
       "      <td>0</td>\n",
       "    </tr>\n",
       "  </tbody>\n",
       "</table>\n",
       "</div>"
      ],
      "text/plain": [
       "      user_id   name  age  city subscription_type     distance   duration  \\\n",
       "6500      700  Айдар   22  Омск              free  2515.690719  14.944286   \n",
       "6501      700  Айдар   22  Омск              free   846.932642  16.234663   \n",
       "6502      700  Айдар   22  Омск              free  4004.434142  20.016628   \n",
       "6503      700  Айдар   22  Омск              free  1205.911290   9.782872   \n",
       "6504      700  Айдар   22  Омск              free  3047.379435  17.427673   \n",
       "\n",
       "           date  month  minute_price  start_ride_price  subscription_fee  \n",
       "6500 2021-01-02      1             8                50                 0  \n",
       "6501 2021-02-01      2             8                50                 0  \n",
       "6502 2021-02-04      2             8                50                 0  \n",
       "6503 2021-02-10      2             8                50                 0  \n",
       "6504 2021-02-14      2             8                50                 0  "
      ]
     },
     "metadata": {},
     "output_type": "display_data"
    },
    {
     "name": "stdout",
     "output_type": "stream",
     "text": [
      "None\n"
     ]
    },
    {
     "data": {
      "text/html": [
       "<div>\n",
       "<style scoped>\n",
       "    .dataframe tbody tr th:only-of-type {\n",
       "        vertical-align: middle;\n",
       "    }\n",
       "\n",
       "    .dataframe tbody tr th {\n",
       "        vertical-align: top;\n",
       "    }\n",
       "\n",
       "    .dataframe thead th {\n",
       "        text-align: right;\n",
       "    }\n",
       "</style>\n",
       "<table border=\"1\" class=\"dataframe\">\n",
       "  <thead>\n",
       "    <tr style=\"text-align: right;\">\n",
       "      <th></th>\n",
       "      <th>user_id</th>\n",
       "      <th>age</th>\n",
       "      <th>distance</th>\n",
       "      <th>duration</th>\n",
       "      <th>month</th>\n",
       "      <th>minute_price</th>\n",
       "      <th>start_ride_price</th>\n",
       "      <th>subscription_fee</th>\n",
       "    </tr>\n",
       "  </thead>\n",
       "  <tbody>\n",
       "    <tr>\n",
       "      <th>count</th>\n",
       "      <td>11568.000000</td>\n",
       "      <td>11568.000000</td>\n",
       "      <td>11568.000000</td>\n",
       "      <td>11568.000000</td>\n",
       "      <td>11568.000000</td>\n",
       "      <td>11568.0</td>\n",
       "      <td>11568.0</td>\n",
       "      <td>11568.0</td>\n",
       "    </tr>\n",
       "    <tr>\n",
       "      <th>mean</th>\n",
       "      <td>1120.527230</td>\n",
       "      <td>24.893326</td>\n",
       "      <td>3045.495282</td>\n",
       "      <td>17.390909</td>\n",
       "      <td>6.522994</td>\n",
       "      <td>8.0</td>\n",
       "      <td>50.0</td>\n",
       "      <td>0.0</td>\n",
       "    </tr>\n",
       "    <tr>\n",
       "      <th>std</th>\n",
       "      <td>241.165628</td>\n",
       "      <td>4.481100</td>\n",
       "      <td>1246.173806</td>\n",
       "      <td>6.326803</td>\n",
       "      <td>3.449770</td>\n",
       "      <td>0.0</td>\n",
       "      <td>0.0</td>\n",
       "      <td>0.0</td>\n",
       "    </tr>\n",
       "    <tr>\n",
       "      <th>min</th>\n",
       "      <td>700.000000</td>\n",
       "      <td>12.000000</td>\n",
       "      <td>0.855683</td>\n",
       "      <td>0.500000</td>\n",
       "      <td>1.000000</td>\n",
       "      <td>8.0</td>\n",
       "      <td>50.0</td>\n",
       "      <td>0.0</td>\n",
       "    </tr>\n",
       "    <tr>\n",
       "      <th>25%</th>\n",
       "      <td>915.000000</td>\n",
       "      <td>22.000000</td>\n",
       "      <td>2366.562689</td>\n",
       "      <td>12.958437</td>\n",
       "      <td>4.000000</td>\n",
       "      <td>8.0</td>\n",
       "      <td>50.0</td>\n",
       "      <td>0.0</td>\n",
       "    </tr>\n",
       "    <tr>\n",
       "      <th>50%</th>\n",
       "      <td>1123.000000</td>\n",
       "      <td>25.000000</td>\n",
       "      <td>3114.648465</td>\n",
       "      <td>17.326890</td>\n",
       "      <td>7.000000</td>\n",
       "      <td>8.0</td>\n",
       "      <td>50.0</td>\n",
       "      <td>0.0</td>\n",
       "    </tr>\n",
       "    <tr>\n",
       "      <th>75%</th>\n",
       "      <td>1328.000000</td>\n",
       "      <td>28.000000</td>\n",
       "      <td>3905.697894</td>\n",
       "      <td>21.594071</td>\n",
       "      <td>9.000000</td>\n",
       "      <td>8.0</td>\n",
       "      <td>50.0</td>\n",
       "      <td>0.0</td>\n",
       "    </tr>\n",
       "    <tr>\n",
       "      <th>max</th>\n",
       "      <td>1534.000000</td>\n",
       "      <td>43.000000</td>\n",
       "      <td>7211.007745</td>\n",
       "      <td>34.948498</td>\n",
       "      <td>12.000000</td>\n",
       "      <td>8.0</td>\n",
       "      <td>50.0</td>\n",
       "      <td>0.0</td>\n",
       "    </tr>\n",
       "  </tbody>\n",
       "</table>\n",
       "</div>"
      ],
      "text/plain": [
       "            user_id           age      distance      duration         month  \\\n",
       "count  11568.000000  11568.000000  11568.000000  11568.000000  11568.000000   \n",
       "mean    1120.527230     24.893326   3045.495282     17.390909      6.522994   \n",
       "std      241.165628      4.481100   1246.173806      6.326803      3.449770   \n",
       "min      700.000000     12.000000      0.855683      0.500000      1.000000   \n",
       "25%      915.000000     22.000000   2366.562689     12.958437      4.000000   \n",
       "50%     1123.000000     25.000000   3114.648465     17.326890      7.000000   \n",
       "75%     1328.000000     28.000000   3905.697894     21.594071      9.000000   \n",
       "max     1534.000000     43.000000   7211.007745     34.948498     12.000000   \n",
       "\n",
       "       minute_price  start_ride_price  subscription_fee  \n",
       "count       11568.0           11568.0           11568.0  \n",
       "mean            8.0              50.0               0.0  \n",
       "std             0.0               0.0               0.0  \n",
       "min             8.0              50.0               0.0  \n",
       "25%             8.0              50.0               0.0  \n",
       "50%             8.0              50.0               0.0  \n",
       "75%             8.0              50.0               0.0  \n",
       "max             8.0              50.0               0.0  "
      ]
     },
     "metadata": {},
     "output_type": "display_data"
    },
    {
     "name": "stdout",
     "output_type": "stream",
     "text": [
      "None\n"
     ]
    }
   ],
   "source": [
    "#Пользователи без подписки\n",
    "total_free = total.query('subscription_type == \"free\"')\n",
    "print(display(total_free.head()))\n",
    "print(display(total_free.describe())) "
   ]
  },
  {
   "cell_type": "markdown",
   "id": "0d5b88c3",
   "metadata": {},
   "source": [
    "Вывод: Всего пользователей и без подписки 11716. Средний возраст - 25 лет. Расстояние, которые проезжают пользователи от 0,85 метров до  7211 метров на одну поездку.  Пока что ничего не меняется, посмотрим на информацию с подпиской. "
   ]
  },
  {
   "cell_type": "markdown",
   "id": "0270dabd",
   "metadata": {},
   "source": [
    "### Изучение данных с подпиской"
   ]
  },
  {
   "cell_type": "code",
   "execution_count": 32,
   "id": "4f9bdd5a",
   "metadata": {},
   "outputs": [
    {
     "data": {
      "text/html": [
       "<div>\n",
       "<style scoped>\n",
       "    .dataframe tbody tr th:only-of-type {\n",
       "        vertical-align: middle;\n",
       "    }\n",
       "\n",
       "    .dataframe tbody tr th {\n",
       "        vertical-align: top;\n",
       "    }\n",
       "\n",
       "    .dataframe thead th {\n",
       "        text-align: right;\n",
       "    }\n",
       "</style>\n",
       "<table border=\"1\" class=\"dataframe\">\n",
       "  <thead>\n",
       "    <tr style=\"text-align: right;\">\n",
       "      <th></th>\n",
       "      <th>user_id</th>\n",
       "      <th>name</th>\n",
       "      <th>age</th>\n",
       "      <th>city</th>\n",
       "      <th>subscription_type</th>\n",
       "      <th>distance</th>\n",
       "      <th>duration</th>\n",
       "      <th>date</th>\n",
       "      <th>month</th>\n",
       "      <th>minute_price</th>\n",
       "      <th>start_ride_price</th>\n",
       "      <th>subscription_fee</th>\n",
       "    </tr>\n",
       "  </thead>\n",
       "  <tbody>\n",
       "    <tr>\n",
       "      <th>0</th>\n",
       "      <td>1</td>\n",
       "      <td>Кира</td>\n",
       "      <td>22</td>\n",
       "      <td>Тюмень</td>\n",
       "      <td>ultra</td>\n",
       "      <td>4409.919140</td>\n",
       "      <td>25.599769</td>\n",
       "      <td>2021-01-01</td>\n",
       "      <td>1</td>\n",
       "      <td>6</td>\n",
       "      <td>0</td>\n",
       "      <td>199</td>\n",
       "    </tr>\n",
       "    <tr>\n",
       "      <th>1</th>\n",
       "      <td>1</td>\n",
       "      <td>Кира</td>\n",
       "      <td>22</td>\n",
       "      <td>Тюмень</td>\n",
       "      <td>ultra</td>\n",
       "      <td>2617.592153</td>\n",
       "      <td>15.816871</td>\n",
       "      <td>2021-01-18</td>\n",
       "      <td>1</td>\n",
       "      <td>6</td>\n",
       "      <td>0</td>\n",
       "      <td>199</td>\n",
       "    </tr>\n",
       "    <tr>\n",
       "      <th>2</th>\n",
       "      <td>1</td>\n",
       "      <td>Кира</td>\n",
       "      <td>22</td>\n",
       "      <td>Тюмень</td>\n",
       "      <td>ultra</td>\n",
       "      <td>754.159807</td>\n",
       "      <td>6.232113</td>\n",
       "      <td>2021-04-20</td>\n",
       "      <td>4</td>\n",
       "      <td>6</td>\n",
       "      <td>0</td>\n",
       "      <td>199</td>\n",
       "    </tr>\n",
       "    <tr>\n",
       "      <th>3</th>\n",
       "      <td>1</td>\n",
       "      <td>Кира</td>\n",
       "      <td>22</td>\n",
       "      <td>Тюмень</td>\n",
       "      <td>ultra</td>\n",
       "      <td>2694.783254</td>\n",
       "      <td>18.511000</td>\n",
       "      <td>2021-08-11</td>\n",
       "      <td>8</td>\n",
       "      <td>6</td>\n",
       "      <td>0</td>\n",
       "      <td>199</td>\n",
       "    </tr>\n",
       "    <tr>\n",
       "      <th>4</th>\n",
       "      <td>1</td>\n",
       "      <td>Кира</td>\n",
       "      <td>22</td>\n",
       "      <td>Тюмень</td>\n",
       "      <td>ultra</td>\n",
       "      <td>4028.687306</td>\n",
       "      <td>26.265803</td>\n",
       "      <td>2021-08-28</td>\n",
       "      <td>8</td>\n",
       "      <td>6</td>\n",
       "      <td>0</td>\n",
       "      <td>199</td>\n",
       "    </tr>\n",
       "  </tbody>\n",
       "</table>\n",
       "</div>"
      ],
      "text/plain": [
       "   user_id  name  age    city subscription_type     distance   duration  \\\n",
       "0        1  Кира   22  Тюмень             ultra  4409.919140  25.599769   \n",
       "1        1  Кира   22  Тюмень             ultra  2617.592153  15.816871   \n",
       "2        1  Кира   22  Тюмень             ultra   754.159807   6.232113   \n",
       "3        1  Кира   22  Тюмень             ultra  2694.783254  18.511000   \n",
       "4        1  Кира   22  Тюмень             ultra  4028.687306  26.265803   \n",
       "\n",
       "        date  month  minute_price  start_ride_price  subscription_fee  \n",
       "0 2021-01-01      1             6                 0               199  \n",
       "1 2021-01-18      1             6                 0               199  \n",
       "2 2021-04-20      4             6                 0               199  \n",
       "3 2021-08-11      8             6                 0               199  \n",
       "4 2021-08-28      8             6                 0               199  "
      ]
     },
     "metadata": {},
     "output_type": "display_data"
    },
    {
     "name": "stdout",
     "output_type": "stream",
     "text": [
      "None\n"
     ]
    },
    {
     "data": {
      "text/html": [
       "<div>\n",
       "<style scoped>\n",
       "    .dataframe tbody tr th:only-of-type {\n",
       "        vertical-align: middle;\n",
       "    }\n",
       "\n",
       "    .dataframe tbody tr th {\n",
       "        vertical-align: top;\n",
       "    }\n",
       "\n",
       "    .dataframe thead th {\n",
       "        text-align: right;\n",
       "    }\n",
       "</style>\n",
       "<table border=\"1\" class=\"dataframe\">\n",
       "  <thead>\n",
       "    <tr style=\"text-align: right;\">\n",
       "      <th></th>\n",
       "      <th>user_id</th>\n",
       "      <th>age</th>\n",
       "      <th>distance</th>\n",
       "      <th>duration</th>\n",
       "      <th>month</th>\n",
       "      <th>minute_price</th>\n",
       "      <th>start_ride_price</th>\n",
       "      <th>subscription_fee</th>\n",
       "    </tr>\n",
       "  </thead>\n",
       "  <tbody>\n",
       "    <tr>\n",
       "      <th>count</th>\n",
       "      <td>6500.000000</td>\n",
       "      <td>6500.000000</td>\n",
       "      <td>6500.000000</td>\n",
       "      <td>6500.000000</td>\n",
       "      <td>6500.000000</td>\n",
       "      <td>6500.0</td>\n",
       "      <td>6500.0</td>\n",
       "      <td>6500.0</td>\n",
       "    </tr>\n",
       "    <tr>\n",
       "      <th>mean</th>\n",
       "      <td>348.725385</td>\n",
       "      <td>24.892615</td>\n",
       "      <td>3115.445388</td>\n",
       "      <td>18.541985</td>\n",
       "      <td>6.422308</td>\n",
       "      <td>6.0</td>\n",
       "      <td>0.0</td>\n",
       "      <td>199.0</td>\n",
       "    </tr>\n",
       "    <tr>\n",
       "      <th>std</th>\n",
       "      <td>201.099339</td>\n",
       "      <td>4.757208</td>\n",
       "      <td>836.895330</td>\n",
       "      <td>5.572048</td>\n",
       "      <td>3.414616</td>\n",
       "      <td>0.0</td>\n",
       "      <td>0.0</td>\n",
       "      <td>0.0</td>\n",
       "    </tr>\n",
       "    <tr>\n",
       "      <th>min</th>\n",
       "      <td>1.000000</td>\n",
       "      <td>12.000000</td>\n",
       "      <td>244.210438</td>\n",
       "      <td>3.760353</td>\n",
       "      <td>1.000000</td>\n",
       "      <td>6.0</td>\n",
       "      <td>0.0</td>\n",
       "      <td>199.0</td>\n",
       "    </tr>\n",
       "    <tr>\n",
       "      <th>25%</th>\n",
       "      <td>175.000000</td>\n",
       "      <td>22.000000</td>\n",
       "      <td>2785.444017</td>\n",
       "      <td>14.524654</td>\n",
       "      <td>4.000000</td>\n",
       "      <td>6.0</td>\n",
       "      <td>0.0</td>\n",
       "      <td>199.0</td>\n",
       "    </tr>\n",
       "    <tr>\n",
       "      <th>50%</th>\n",
       "      <td>351.000000</td>\n",
       "      <td>25.000000</td>\n",
       "      <td>3148.637229</td>\n",
       "      <td>18.178153</td>\n",
       "      <td>6.000000</td>\n",
       "      <td>6.0</td>\n",
       "      <td>0.0</td>\n",
       "      <td>199.0</td>\n",
       "    </tr>\n",
       "    <tr>\n",
       "      <th>75%</th>\n",
       "      <td>525.000000</td>\n",
       "      <td>28.000000</td>\n",
       "      <td>3560.574425</td>\n",
       "      <td>21.884129</td>\n",
       "      <td>9.000000</td>\n",
       "      <td>6.0</td>\n",
       "      <td>0.0</td>\n",
       "      <td>199.0</td>\n",
       "    </tr>\n",
       "    <tr>\n",
       "      <th>max</th>\n",
       "      <td>699.000000</td>\n",
       "      <td>38.000000</td>\n",
       "      <td>5699.769662</td>\n",
       "      <td>40.823963</td>\n",
       "      <td>12.000000</td>\n",
       "      <td>6.0</td>\n",
       "      <td>0.0</td>\n",
       "      <td>199.0</td>\n",
       "    </tr>\n",
       "  </tbody>\n",
       "</table>\n",
       "</div>"
      ],
      "text/plain": [
       "           user_id          age     distance     duration        month  \\\n",
       "count  6500.000000  6500.000000  6500.000000  6500.000000  6500.000000   \n",
       "mean    348.725385    24.892615  3115.445388    18.541985     6.422308   \n",
       "std     201.099339     4.757208   836.895330     5.572048     3.414616   \n",
       "min       1.000000    12.000000   244.210438     3.760353     1.000000   \n",
       "25%     175.000000    22.000000  2785.444017    14.524654     4.000000   \n",
       "50%     351.000000    25.000000  3148.637229    18.178153     6.000000   \n",
       "75%     525.000000    28.000000  3560.574425    21.884129     9.000000   \n",
       "max     699.000000    38.000000  5699.769662    40.823963    12.000000   \n",
       "\n",
       "       minute_price  start_ride_price  subscription_fee  \n",
       "count        6500.0            6500.0            6500.0  \n",
       "mean            6.0               0.0             199.0  \n",
       "std             0.0               0.0               0.0  \n",
       "min             6.0               0.0             199.0  \n",
       "25%             6.0               0.0             199.0  \n",
       "50%             6.0               0.0             199.0  \n",
       "75%             6.0               0.0             199.0  \n",
       "max             6.0               0.0             199.0  "
      ]
     },
     "metadata": {},
     "output_type": "display_data"
    },
    {
     "name": "stdout",
     "output_type": "stream",
     "text": [
      "None\n"
     ]
    }
   ],
   "source": [
    "#Пользователи с подпиской \n",
    "total_ultra = total.query('subscription_type == \"ultra\"')\n",
    "print(display(total_ultra.head()))\n",
    "\n",
    "print(display(total_ultra.describe())) "
   ]
  },
  {
   "cell_type": "markdown",
   "id": "bdd4c23d",
   "metadata": {},
   "source": [
    "Вывод: Всего пользователей и c подпиской 6672. Средний возраст - 25 лет. Расстояние, которые проезжают пользователи от 244,2 метра до  5699,8 метров за одну поездку. "
   ]
  },
  {
   "cell_type": "markdown",
   "id": "6f399b3e",
   "metadata": {},
   "source": [
    "### Разница показателей с подпиской и без"
   ]
  },
  {
   "cell_type": "code",
   "execution_count": 33,
   "id": "87032e2b",
   "metadata": {},
   "outputs": [
    {
     "name": "stdout",
     "output_type": "stream",
     "text": [
      "Разница описательных значений столбцов с числовыми данными датафреймов 'total_ultra' и 'total_free'\n"
     ]
    },
    {
     "data": {
      "text/html": [
       "<div>\n",
       "<style scoped>\n",
       "    .dataframe tbody tr th:only-of-type {\n",
       "        vertical-align: middle;\n",
       "    }\n",
       "\n",
       "    .dataframe tbody tr th {\n",
       "        vertical-align: top;\n",
       "    }\n",
       "\n",
       "    .dataframe thead th {\n",
       "        text-align: right;\n",
       "    }\n",
       "</style>\n",
       "<table border=\"1\" class=\"dataframe\">\n",
       "  <thead>\n",
       "    <tr style=\"text-align: right;\">\n",
       "      <th></th>\n",
       "      <th>user_id</th>\n",
       "      <th>age</th>\n",
       "      <th>distance</th>\n",
       "      <th>duration</th>\n",
       "      <th>month</th>\n",
       "      <th>minute_price</th>\n",
       "      <th>start_ride_price</th>\n",
       "      <th>subscription_fee</th>\n",
       "    </tr>\n",
       "  </thead>\n",
       "  <tbody>\n",
       "    <tr>\n",
       "      <th>count</th>\n",
       "      <td>5068.000000</td>\n",
       "      <td>5068.000000</td>\n",
       "      <td>5068.000000</td>\n",
       "      <td>5068.000000</td>\n",
       "      <td>5068.000000</td>\n",
       "      <td>5068.0</td>\n",
       "      <td>5068.0</td>\n",
       "      <td>5068.0</td>\n",
       "    </tr>\n",
       "    <tr>\n",
       "      <th>mean</th>\n",
       "      <td>771.801846</td>\n",
       "      <td>0.000711</td>\n",
       "      <td>-69.950106</td>\n",
       "      <td>-1.151076</td>\n",
       "      <td>0.100687</td>\n",
       "      <td>2.0</td>\n",
       "      <td>50.0</td>\n",
       "      <td>-199.0</td>\n",
       "    </tr>\n",
       "    <tr>\n",
       "      <th>std</th>\n",
       "      <td>40.066290</td>\n",
       "      <td>-0.276108</td>\n",
       "      <td>409.278476</td>\n",
       "      <td>0.754755</td>\n",
       "      <td>0.035154</td>\n",
       "      <td>0.0</td>\n",
       "      <td>0.0</td>\n",
       "      <td>0.0</td>\n",
       "    </tr>\n",
       "    <tr>\n",
       "      <th>min</th>\n",
       "      <td>699.000000</td>\n",
       "      <td>0.000000</td>\n",
       "      <td>-243.354755</td>\n",
       "      <td>-3.260353</td>\n",
       "      <td>0.000000</td>\n",
       "      <td>2.0</td>\n",
       "      <td>50.0</td>\n",
       "      <td>-199.0</td>\n",
       "    </tr>\n",
       "    <tr>\n",
       "      <th>25%</th>\n",
       "      <td>740.000000</td>\n",
       "      <td>0.000000</td>\n",
       "      <td>-418.881328</td>\n",
       "      <td>-1.566217</td>\n",
       "      <td>0.000000</td>\n",
       "      <td>2.0</td>\n",
       "      <td>50.0</td>\n",
       "      <td>-199.0</td>\n",
       "    </tr>\n",
       "    <tr>\n",
       "      <th>50%</th>\n",
       "      <td>772.000000</td>\n",
       "      <td>0.000000</td>\n",
       "      <td>-33.988764</td>\n",
       "      <td>-0.851263</td>\n",
       "      <td>1.000000</td>\n",
       "      <td>2.0</td>\n",
       "      <td>50.0</td>\n",
       "      <td>-199.0</td>\n",
       "    </tr>\n",
       "    <tr>\n",
       "      <th>75%</th>\n",
       "      <td>803.000000</td>\n",
       "      <td>0.000000</td>\n",
       "      <td>345.123469</td>\n",
       "      <td>-0.290058</td>\n",
       "      <td>0.000000</td>\n",
       "      <td>2.0</td>\n",
       "      <td>50.0</td>\n",
       "      <td>-199.0</td>\n",
       "    </tr>\n",
       "    <tr>\n",
       "      <th>max</th>\n",
       "      <td>835.000000</td>\n",
       "      <td>5.000000</td>\n",
       "      <td>1511.238083</td>\n",
       "      <td>-5.875464</td>\n",
       "      <td>0.000000</td>\n",
       "      <td>2.0</td>\n",
       "      <td>50.0</td>\n",
       "      <td>-199.0</td>\n",
       "    </tr>\n",
       "  </tbody>\n",
       "</table>\n",
       "</div>"
      ],
      "text/plain": [
       "           user_id          age     distance     duration        month  \\\n",
       "count  5068.000000  5068.000000  5068.000000  5068.000000  5068.000000   \n",
       "mean    771.801846     0.000711   -69.950106    -1.151076     0.100687   \n",
       "std      40.066290    -0.276108   409.278476     0.754755     0.035154   \n",
       "min     699.000000     0.000000  -243.354755    -3.260353     0.000000   \n",
       "25%     740.000000     0.000000  -418.881328    -1.566217     0.000000   \n",
       "50%     772.000000     0.000000   -33.988764    -0.851263     1.000000   \n",
       "75%     803.000000     0.000000   345.123469    -0.290058     0.000000   \n",
       "max     835.000000     5.000000  1511.238083    -5.875464     0.000000   \n",
       "\n",
       "       minute_price  start_ride_price  subscription_fee  \n",
       "count        5068.0            5068.0            5068.0  \n",
       "mean            2.0              50.0            -199.0  \n",
       "std             0.0               0.0               0.0  \n",
       "min             2.0              50.0            -199.0  \n",
       "25%             2.0              50.0            -199.0  \n",
       "50%             2.0              50.0            -199.0  \n",
       "75%             2.0              50.0            -199.0  \n",
       "max             2.0              50.0            -199.0  "
      ]
     },
     "execution_count": 33,
     "metadata": {},
     "output_type": "execute_result"
    }
   ],
   "source": [
    "print(\"Разница описательных значений столбцов с числовыми данными датафреймов 'total_ultra' и 'total_free'\") \n",
    "total_free.describe() - total_ultra.describe()"
   ]
  },
  {
   "cell_type": "markdown",
   "id": "90ad7adc",
   "metadata": {},
   "source": [
    "Вывод: Без подписки кол-во пользователей на 5044 больше, чем с подпиской. \n",
    "\n",
    "Возрастные показатели пользователей с разным типом подписки в целом схожи, за исключением максимального возраста, который на 5 лет больше у пользователей с подпиской ‘free’.\n",
    "\n",
    "Максимальная дистанция больше на 1511 метров, а минимальная на 243 метра меньше, чем при использовании подписки ‘ultra’. Об этом же свидетельствует и стандартное отклонение, которое при использовании подписки ‘free’ больше на 409 метров, чем при использовании подписки ‘ultra’. Средняя дистанция при использовании подписки ‘free’ короче. Это следует из того, что среднее значениее на 70 метров, а медиана на 34 метра, меньше, чем при использовании ‘ultra’.\n",
    "\n",
    "Продолжительность поездок при использовании подписки ‘free’ немного меньше по всем показателям, чем при использовании ‘ultra’. Например, минимальное время меньше на 3.26 минут, а максимальное меньше на 5.88 минут\n",
    "\n",
    "Сезонность использования разного типа подписки схожа за исключением медианы, которая у подписчиков ‘ultra’ приходится на июнь, а у подписчиков ‘free’ на июль. При использовании обоих типов подписок наблюдаются спады пользовательской активности в феврале и ноябре."
   ]
  },
  {
   "cell_type": "markdown",
   "id": "f62a1f5b",
   "metadata": {},
   "source": [
    "### Расстояние и время поездки "
   ]
  },
  {
   "cell_type": "code",
   "execution_count": 38,
   "id": "ecfac256",
   "metadata": {},
   "outputs": [],
   "source": [
    "# Функция сравнения одинаковых столбцов \n",
    "def quantity_go_comp(data1, data2, column, bins_num, xlabel, ylabel, title, dataname1, dataname2):\n",
    "    print('Сравнение столбцов:', column)\n",
    "    \n",
    "    data1.rename(columns = {column:dataname1})[dataname1].plot.hist(\n",
    "        bins=bins_num, \n",
    "        #xlim=(data_min, data_max),\n",
    "        alpha=.5, \n",
    "        legend=True,\n",
    "        grid=True\n",
    "    )\n",
    "    data2.rename(columns = {column:dataname2})[dataname2].plot.hist(\n",
    "        bins=bins_num, \n",
    "        #xlim=(data_min, data_max),\n",
    "        alpha=.5, \n",
    "        legend=True,\n",
    "        grid=True\n",
    "    )\n",
    "    \n",
    "    plt.gca().set(xlabel=f'${xlabel}$', ylabel=f'${ylabel}$')\n",
    "    plt.title(f'{title}')\n",
    "    plt.show()"
   ]
  },
  {
   "cell_type": "code",
   "execution_count": 39,
   "id": "064d34e2",
   "metadata": {},
   "outputs": [
    {
     "name": "stdout",
     "output_type": "stream",
     "text": [
      "Сравнение столбцов: distance\n"
     ]
    },
    {
     "data": {
      "image/png": "[encoded data removed]",
      "text/plain": [
       "<Figure size 640x480 with 1 Axes>"
      ]
     },
     "metadata": {},
     "output_type": "display_data"
    }
   ],
   "source": [
    "quantity_go_comp(\n",
    "    total_free, \n",
    "    total_ultra,\n",
    "    'distance',\n",
    "    int((total['distance'].max()-total['distance'].min())/100),\n",
    "    'Расстояние одной поездки', \n",
    "    'Количество значений', \n",
    "    'Количество пользователей по расстоянию одной поездки',\n",
    "    'total_free', \n",
    "    'total_ultra',\n",
    ")"
   ]
  },
  {
   "cell_type": "markdown",
   "id": "d5ada357",
   "metadata": {},
   "source": [
    "Вывод: Дистанция поездок при использовании подписки ‘free’ более разнообразна. Так максимальная дистанция больше на 1511 метров, а минимальная на 243 метра меньше, чем при использовании подписки ‘ultra’. Об этом же свидетельствует и стандартное отклонение, которое при использовании подписки ‘free’ больше на 409 метров, чем при использовании подписки ‘ultra’. Средняя дистанция при использовании подписки ‘free’ короче. Это следует из того, что среднее значениее на 70 метров, а медиана на 34 метра, меньше, чем при использовании ‘ultra’.\n",
    "\n",
    "При использовании обоих подписок наблюдается два пика. Первый небольшой пик на меньших дистанциях и второй основной пик на больших дистанциях. Так меньший пик ‘ultra’ находится в районе 1000 метров, а основной в районе 3100 метров с небольшой коррекцией около 4000 метров. Меншьй пик ‘free’ в районе 700 метров, а основной 2500-3500 метров. В целом пики ‘ultra’ более выраженные и имеют меньший разрбос."
   ]
  },
  {
   "cell_type": "code",
   "execution_count": 40,
   "id": "11b25486",
   "metadata": {},
   "outputs": [
    {
     "name": "stdout",
     "output_type": "stream",
     "text": [
      "Сравнение столбцов: duration\n"
     ]
    },
    {
     "data": {
      "image/png": "[encoded data removed]",
      "text/plain": [
       "<Figure size 640x480 with 1 Axes>"
      ]
     },
     "metadata": {},
     "output_type": "display_data"
    }
   ],
   "source": [
    "quantity_go_comp(\n",
    "   total_free, \n",
    "    total_ultra, \n",
    "    'duration', \n",
    "    int((total_free['duration'].max())), \n",
    "    'Продоложительность', \n",
    "    'Количество  использований сервиса', \n",
    "    'Количество использований сервиса в зависимости от продолжительности поездки', \n",
    "    'ultra', \n",
    "    'free'\n",
    ")"
   ]
  },
  {
   "cell_type": "markdown",
   "id": "3d8b1229",
   "metadata": {},
   "source": [
    "Вывод: Продолжительность поездок при использовании подписки ‘free’ немного меньше по всем показателям, чем при использовании ‘ultra’. Например, минимальное время меньше на 3.26 минут, а максимальное меньше на 5.88 минут. В обоих случаях количество поездок относительно нормально распределено в зависимости от их продолжительности. Пик количества поездок приходится на 17-18 минут. При использовании подписки ‘free’ наблюдается пик в около 100 поездок с продолжительностью около 1 минуты."
   ]
  },
  {
   "cell_type": "markdown",
   "id": "c8de3709",
   "metadata": {},
   "source": [
    "## Подсчёт выручки"
   ]
  },
  {
   "cell_type": "markdown",
   "id": "57f0bafb",
   "metadata": {},
   "source": [
    "Помесячная выручка считается по формуле: \n",
    "\n",
    "Cтоимость старта поездки (start_ride_price) + количество поездок + стоимость одной минуты поездки(minute_price) + общая продолжительность всех поездок в минутах (duration) + стоимость подписки."
   ]
  },
  {
   "cell_type": "code",
   "execution_count": 41,
   "id": "a74de4ad",
   "metadata": {},
   "outputs": [],
   "source": [
    "# Округление продолжительности поездок в 'duration'\n",
    "total['duration'] = np.ceil(total['duration'])"
   ]
  },
  {
   "cell_type": "code",
   "execution_count": 42,
   "id": "c0ffd545",
   "metadata": {},
   "outputs": [
    {
     "data": {
      "text/html": [
       "<div>\n",
       "<style scoped>\n",
       "    .dataframe tbody tr th:only-of-type {\n",
       "        vertical-align: middle;\n",
       "    }\n",
       "\n",
       "    .dataframe tbody tr th {\n",
       "        vertical-align: top;\n",
       "    }\n",
       "\n",
       "    .dataframe thead th {\n",
       "        text-align: right;\n",
       "    }\n",
       "</style>\n",
       "<table border=\"1\" class=\"dataframe\">\n",
       "  <thead>\n",
       "    <tr style=\"text-align: right;\">\n",
       "      <th></th>\n",
       "      <th></th>\n",
       "      <th>count</th>\n",
       "      <th>distance</th>\n",
       "      <th>duration</th>\n",
       "      <th>minute_price</th>\n",
       "      <th>start_ride_price</th>\n",
       "      <th>subscription_fee</th>\n",
       "    </tr>\n",
       "    <tr>\n",
       "      <th>user_id</th>\n",
       "      <th>month</th>\n",
       "      <th></th>\n",
       "      <th></th>\n",
       "      <th></th>\n",
       "      <th></th>\n",
       "      <th></th>\n",
       "      <th></th>\n",
       "    </tr>\n",
       "  </thead>\n",
       "  <tbody>\n",
       "    <tr>\n",
       "      <th rowspan=\"5\" valign=\"top\">1</th>\n",
       "      <th>1</th>\n",
       "      <td>2</td>\n",
       "      <td>7027.511294</td>\n",
       "      <td>42.0</td>\n",
       "      <td>12</td>\n",
       "      <td>0</td>\n",
       "      <td>398</td>\n",
       "    </tr>\n",
       "    <tr>\n",
       "      <th>4</th>\n",
       "      <td>1</td>\n",
       "      <td>754.159807</td>\n",
       "      <td>7.0</td>\n",
       "      <td>6</td>\n",
       "      <td>0</td>\n",
       "      <td>199</td>\n",
       "    </tr>\n",
       "    <tr>\n",
       "      <th>8</th>\n",
       "      <td>2</td>\n",
       "      <td>6723.470560</td>\n",
       "      <td>46.0</td>\n",
       "      <td>12</td>\n",
       "      <td>0</td>\n",
       "      <td>398</td>\n",
       "    </tr>\n",
       "    <tr>\n",
       "      <th>10</th>\n",
       "      <td>2</td>\n",
       "      <td>5809.911100</td>\n",
       "      <td>32.0</td>\n",
       "      <td>12</td>\n",
       "      <td>0</td>\n",
       "      <td>398</td>\n",
       "    </tr>\n",
       "    <tr>\n",
       "      <th>11</th>\n",
       "      <td>3</td>\n",
       "      <td>7003.499363</td>\n",
       "      <td>56.0</td>\n",
       "      <td>18</td>\n",
       "      <td>0</td>\n",
       "      <td>597</td>\n",
       "    </tr>\n",
       "  </tbody>\n",
       "</table>\n",
       "</div>"
      ],
      "text/plain": [
       "               count     distance  duration  minute_price  start_ride_price  \\\n",
       "user_id month                                                                 \n",
       "1       1          2  7027.511294      42.0            12                 0   \n",
       "        4          1   754.159807       7.0             6                 0   \n",
       "        8          2  6723.470560      46.0            12                 0   \n",
       "        10         2  5809.911100      32.0            12                 0   \n",
       "        11         3  7003.499363      56.0            18                 0   \n",
       "\n",
       "               subscription_fee  \n",
       "user_id month                    \n",
       "1       1                   398  \n",
       "        4                   199  \n",
       "        8                   398  \n",
       "        10                  398  \n",
       "        11                  597  "
      ]
     },
     "metadata": {},
     "output_type": "display_data"
    },
    {
     "name": "stdout",
     "output_type": "stream",
     "text": [
      "Количество пропусков в сводной таблице: count               0\n",
      "distance            0\n",
      "duration            0\n",
      "minute_price        0\n",
      "start_ride_price    0\n",
      "subscription_fee    0\n",
      "dtype: int64\n"
     ]
    }
   ],
   "source": [
    "users_months = total.pivot_table(index=('user_id', 'month'), values=('distance', 'duration', 'minute_price', 'start_ride_price', \n",
    "'subscription_fee'), aggfunc=('count', 'sum'))\n",
    "\n",
    "# Переименование  столбцов\n",
    "users_months.columns = [\n",
    "    'count', 'distance', \n",
    "    'count2', 'duration', \n",
    "    'count3', 'minute_price',\n",
    "    'count4', 'start_ride_price', \n",
    "    'count5', 'subscription_fee'\n",
    "]\n",
    "\n",
    "# Удаление дублирующих столбцов с подсчитанным количеством строк \n",
    "users_months = users_months.drop(['count2', 'count3', 'count4', 'count5'], axis=1)\n",
    "\n",
    "display(users_months.head())\n",
    "print('Количество пропусков в сводной таблице:', users_months.isna().sum())"
   ]
  },
  {
   "cell_type": "code",
   "execution_count": 43,
   "id": "d9b6a77a",
   "metadata": {},
   "outputs": [
    {
     "data": {
      "text/html": [
       "<div>\n",
       "<style scoped>\n",
       "    .dataframe tbody tr th:only-of-type {\n",
       "        vertical-align: middle;\n",
       "    }\n",
       "\n",
       "    .dataframe tbody tr th {\n",
       "        vertical-align: top;\n",
       "    }\n",
       "\n",
       "    .dataframe thead th {\n",
       "        text-align: right;\n",
       "    }\n",
       "</style>\n",
       "<table border=\"1\" class=\"dataframe\">\n",
       "  <thead>\n",
       "    <tr style=\"text-align: right;\">\n",
       "      <th></th>\n",
       "      <th></th>\n",
       "      <th>count</th>\n",
       "      <th>distance</th>\n",
       "      <th>duration</th>\n",
       "      <th>minute_price</th>\n",
       "      <th>start_ride_price</th>\n",
       "      <th>subscription_fee</th>\n",
       "    </tr>\n",
       "    <tr>\n",
       "      <th>user_id</th>\n",
       "      <th>month</th>\n",
       "      <th></th>\n",
       "      <th></th>\n",
       "      <th></th>\n",
       "      <th></th>\n",
       "      <th></th>\n",
       "      <th></th>\n",
       "    </tr>\n",
       "  </thead>\n",
       "  <tbody>\n",
       "    <tr>\n",
       "      <th rowspan=\"5\" valign=\"top\">1</th>\n",
       "      <th>1</th>\n",
       "      <td>2</td>\n",
       "      <td>7027.511294</td>\n",
       "      <td>42.0</td>\n",
       "      <td>6.0</td>\n",
       "      <td>0.0</td>\n",
       "      <td>199.0</td>\n",
       "    </tr>\n",
       "    <tr>\n",
       "      <th>4</th>\n",
       "      <td>1</td>\n",
       "      <td>754.159807</td>\n",
       "      <td>7.0</td>\n",
       "      <td>6.0</td>\n",
       "      <td>0.0</td>\n",
       "      <td>199.0</td>\n",
       "    </tr>\n",
       "    <tr>\n",
       "      <th>8</th>\n",
       "      <td>2</td>\n",
       "      <td>6723.470560</td>\n",
       "      <td>46.0</td>\n",
       "      <td>6.0</td>\n",
       "      <td>0.0</td>\n",
       "      <td>199.0</td>\n",
       "    </tr>\n",
       "    <tr>\n",
       "      <th>10</th>\n",
       "      <td>2</td>\n",
       "      <td>5809.911100</td>\n",
       "      <td>32.0</td>\n",
       "      <td>6.0</td>\n",
       "      <td>0.0</td>\n",
       "      <td>199.0</td>\n",
       "    </tr>\n",
       "    <tr>\n",
       "      <th>11</th>\n",
       "      <td>3</td>\n",
       "      <td>7003.499363</td>\n",
       "      <td>56.0</td>\n",
       "      <td>6.0</td>\n",
       "      <td>0.0</td>\n",
       "      <td>199.0</td>\n",
       "    </tr>\n",
       "    <tr>\n",
       "      <th>...</th>\n",
       "      <th>...</th>\n",
       "      <td>...</td>\n",
       "      <td>...</td>\n",
       "      <td>...</td>\n",
       "      <td>...</td>\n",
       "      <td>...</td>\n",
       "      <td>...</td>\n",
       "    </tr>\n",
       "    <tr>\n",
       "      <th rowspan=\"5\" valign=\"top\">1534</th>\n",
       "      <th>6</th>\n",
       "      <td>2</td>\n",
       "      <td>3409.468534</td>\n",
       "      <td>26.0</td>\n",
       "      <td>8.0</td>\n",
       "      <td>50.0</td>\n",
       "      <td>0.0</td>\n",
       "    </tr>\n",
       "    <tr>\n",
       "      <th>8</th>\n",
       "      <td>2</td>\n",
       "      <td>7622.453034</td>\n",
       "      <td>48.0</td>\n",
       "      <td>8.0</td>\n",
       "      <td>50.0</td>\n",
       "      <td>0.0</td>\n",
       "    </tr>\n",
       "    <tr>\n",
       "      <th>9</th>\n",
       "      <td>1</td>\n",
       "      <td>4928.173852</td>\n",
       "      <td>23.0</td>\n",
       "      <td>8.0</td>\n",
       "      <td>50.0</td>\n",
       "      <td>0.0</td>\n",
       "    </tr>\n",
       "    <tr>\n",
       "      <th>11</th>\n",
       "      <td>4</td>\n",
       "      <td>13350.015305</td>\n",
       "      <td>78.0</td>\n",
       "      <td>8.0</td>\n",
       "      <td>50.0</td>\n",
       "      <td>0.0</td>\n",
       "    </tr>\n",
       "    <tr>\n",
       "      <th>12</th>\n",
       "      <td>1</td>\n",
       "      <td>2371.711192</td>\n",
       "      <td>16.0</td>\n",
       "      <td>8.0</td>\n",
       "      <td>50.0</td>\n",
       "      <td>0.0</td>\n",
       "    </tr>\n",
       "  </tbody>\n",
       "</table>\n",
       "<p>11331 rows × 6 columns</p>\n",
       "</div>"
      ],
      "text/plain": [
       "               count      distance  duration  minute_price  start_ride_price  \\\n",
       "user_id month                                                                  \n",
       "1       1          2   7027.511294      42.0           6.0               0.0   \n",
       "        4          1    754.159807       7.0           6.0               0.0   \n",
       "        8          2   6723.470560      46.0           6.0               0.0   \n",
       "        10         2   5809.911100      32.0           6.0               0.0   \n",
       "        11         3   7003.499363      56.0           6.0               0.0   \n",
       "...              ...           ...       ...           ...               ...   \n",
       "1534    6          2   3409.468534      26.0           8.0              50.0   \n",
       "        8          2   7622.453034      48.0           8.0              50.0   \n",
       "        9          1   4928.173852      23.0           8.0              50.0   \n",
       "        11         4  13350.015305      78.0           8.0              50.0   \n",
       "        12         1   2371.711192      16.0           8.0              50.0   \n",
       "\n",
       "               subscription_fee  \n",
       "user_id month                    \n",
       "1       1                 199.0  \n",
       "        4                 199.0  \n",
       "        8                 199.0  \n",
       "        10                199.0  \n",
       "        11                199.0  \n",
       "...                         ...  \n",
       "1534    6                   0.0  \n",
       "        8                   0.0  \n",
       "        9                   0.0  \n",
       "        11                  0.0  \n",
       "        12                  0.0  \n",
       "\n",
       "[11331 rows x 6 columns]"
      ]
     },
     "execution_count": 43,
     "metadata": {},
     "output_type": "execute_result"
    }
   ],
   "source": [
    "# Приведение столбцов с ценами к целевому состоянию\n",
    "users_months['start_ride_price'] = users_months['start_ride_price'] / users_months['count']\n",
    "users_months['minute_price'] = users_months['minute_price'] / users_months['count']\n",
    "#users_months_go.loc[users_months_go['minute_price'] > 0] = 8\n",
    "users_months['subscription_fee'] = users_months['subscription_fee'] / users_months['count']\n",
    "\n",
    "users_months"
   ]
  },
  {
   "cell_type": "markdown",
   "id": "fc34c2e2",
   "metadata": {},
   "source": [
    "### Добавление выручки "
   ]
  },
  {
   "cell_type": "code",
   "execution_count": 44,
   "id": "6e2a2bba",
   "metadata": {
    "scrolled": false
   },
   "outputs": [
    {
     "data": {
      "text/html": [
       "<div>\n",
       "<style scoped>\n",
       "    .dataframe tbody tr th:only-of-type {\n",
       "        vertical-align: middle;\n",
       "    }\n",
       "\n",
       "    .dataframe tbody tr th {\n",
       "        vertical-align: top;\n",
       "    }\n",
       "\n",
       "    .dataframe thead th {\n",
       "        text-align: right;\n",
       "    }\n",
       "</style>\n",
       "<table border=\"1\" class=\"dataframe\">\n",
       "  <thead>\n",
       "    <tr style=\"text-align: right;\">\n",
       "      <th></th>\n",
       "      <th></th>\n",
       "      <th>count</th>\n",
       "      <th>distance</th>\n",
       "      <th>duration</th>\n",
       "      <th>subscription_fee</th>\n",
       "      <th>revenue</th>\n",
       "    </tr>\n",
       "    <tr>\n",
       "      <th>user_id</th>\n",
       "      <th>month</th>\n",
       "      <th></th>\n",
       "      <th></th>\n",
       "      <th></th>\n",
       "      <th></th>\n",
       "      <th></th>\n",
       "    </tr>\n",
       "  </thead>\n",
       "  <tbody>\n",
       "    <tr>\n",
       "      <th rowspan=\"6\" valign=\"top\">1</th>\n",
       "      <th>1</th>\n",
       "      <td>2</td>\n",
       "      <td>7027.511294</td>\n",
       "      <td>42.0</td>\n",
       "      <td>199.0</td>\n",
       "      <td>451.0</td>\n",
       "    </tr>\n",
       "    <tr>\n",
       "      <th>4</th>\n",
       "      <td>1</td>\n",
       "      <td>754.159807</td>\n",
       "      <td>7.0</td>\n",
       "      <td>199.0</td>\n",
       "      <td>241.0</td>\n",
       "    </tr>\n",
       "    <tr>\n",
       "      <th>8</th>\n",
       "      <td>2</td>\n",
       "      <td>6723.470560</td>\n",
       "      <td>46.0</td>\n",
       "      <td>199.0</td>\n",
       "      <td>475.0</td>\n",
       "    </tr>\n",
       "    <tr>\n",
       "      <th>10</th>\n",
       "      <td>2</td>\n",
       "      <td>5809.911100</td>\n",
       "      <td>32.0</td>\n",
       "      <td>199.0</td>\n",
       "      <td>391.0</td>\n",
       "    </tr>\n",
       "    <tr>\n",
       "      <th>11</th>\n",
       "      <td>3</td>\n",
       "      <td>7003.499363</td>\n",
       "      <td>56.0</td>\n",
       "      <td>199.0</td>\n",
       "      <td>535.0</td>\n",
       "    </tr>\n",
       "    <tr>\n",
       "      <th>12</th>\n",
       "      <td>2</td>\n",
       "      <td>6751.629942</td>\n",
       "      <td>28.0</td>\n",
       "      <td>199.0</td>\n",
       "      <td>367.0</td>\n",
       "    </tr>\n",
       "    <tr>\n",
       "      <th rowspan=\"4\" valign=\"top\">2</th>\n",
       "      <th>3</th>\n",
       "      <td>3</td>\n",
       "      <td>10187.723006</td>\n",
       "      <td>63.0</td>\n",
       "      <td>199.0</td>\n",
       "      <td>577.0</td>\n",
       "    </tr>\n",
       "    <tr>\n",
       "      <th>4</th>\n",
       "      <td>2</td>\n",
       "      <td>6164.381824</td>\n",
       "      <td>40.0</td>\n",
       "      <td>199.0</td>\n",
       "      <td>439.0</td>\n",
       "    </tr>\n",
       "    <tr>\n",
       "      <th>6</th>\n",
       "      <td>1</td>\n",
       "      <td>3255.338202</td>\n",
       "      <td>14.0</td>\n",
       "      <td>199.0</td>\n",
       "      <td>283.0</td>\n",
       "    </tr>\n",
       "    <tr>\n",
       "      <th>7</th>\n",
       "      <td>2</td>\n",
       "      <td>6780.722964</td>\n",
       "      <td>48.0</td>\n",
       "      <td>199.0</td>\n",
       "      <td>487.0</td>\n",
       "    </tr>\n",
       "  </tbody>\n",
       "</table>\n",
       "</div>"
      ],
      "text/plain": [
       "               count      distance  duration  subscription_fee  revenue\n",
       "user_id month                                                          \n",
       "1       1          2   7027.511294      42.0             199.0    451.0\n",
       "        4          1    754.159807       7.0             199.0    241.0\n",
       "        8          2   6723.470560      46.0             199.0    475.0\n",
       "        10         2   5809.911100      32.0             199.0    391.0\n",
       "        11         3   7003.499363      56.0             199.0    535.0\n",
       "        12         2   6751.629942      28.0             199.0    367.0\n",
       "2       3          3  10187.723006      63.0             199.0    577.0\n",
       "        4          2   6164.381824      40.0             199.0    439.0\n",
       "        6          1   3255.338202      14.0             199.0    283.0\n",
       "        7          2   6780.722964      48.0             199.0    487.0"
      ]
     },
     "metadata": {},
     "output_type": "display_data"
    },
    {
     "name": "stdout",
     "output_type": "stream",
     "text": [
      "None\n"
     ]
    }
   ],
   "source": [
    "# Расчет и округление выручки\n",
    "users_months['revenue'] = (\n",
    "    (users_months['start_ride_price'] * users_months['count']) \n",
    "    + (users_months['minute_price'] * users_months['duration']) \n",
    "    + users_months['subscription_fee']\n",
    ")\n",
    "\n",
    "# Удаление столбцов\n",
    "users_months = users_months.drop(['start_ride_price', 'minute_price'], axis=1)\n",
    "\n",
    "print(display(users_months.head(10)))"
   ]
  },
  {
   "cell_type": "markdown",
   "id": "b0cdfe44",
   "metadata": {},
   "source": [
    "##  Проверка гипотез"
   ]
  },
  {
   "cell_type": "markdown",
   "id": "402d620f",
   "metadata": {},
   "source": [
    "### Важно понять, тратят ли пользователи с подпиской больше времени на поездки? Если да, то пользователи с подпиской могут быть «выгоднее» для компании. Проверьте гипотезу. Используйте исходные данные о продолжительности каждой сессии — отдельно для подписчиков и тех, у кого нет подписки."
   ]
  },
  {
   "cell_type": "markdown",
   "id": "f7969845",
   "metadata": {},
   "source": [
    "Нулевая и альтернативная гипотезы:\n",
    "\n",
    "**Гипотеза Н0**: Средняя продолжительность поездок с подпиской ‘ultra’ и ‘free’ равна.\n",
    "\n",
    "**Гипотеза Н1**: Средняя продолжительность поездок с подпиской ‘ultra’ больше, чем с подпиской ‘free’."
   ]
  },
  {
   "cell_type": "code",
   "execution_count": 45,
   "id": "756dc735",
   "metadata": {},
   "outputs": [
    {
     "name": "stdout",
     "output_type": "stream",
     "text": [
      "5.675781377128977e-37\n",
      "Отвергаем нулевую гипотезу\n"
     ]
    }
   ],
   "source": [
    "results = st.ttest_ind(total_ultra['duration'], total_free['duration'], equal_var=False, alternative='greater')\n",
    "print(results.pvalue)\n",
    "if results.pvalue < .05:\n",
    "    print('Отвергаем нулевую гипотезу')\n",
    "else:\n",
    "    print('Вывод: Не получилось отвергнуть нулевую гипотезу')"
   ]
  },
  {
   "cell_type": "markdown",
   "id": "41545ac0",
   "metadata": {},
   "source": [
    "### Расстояние одной поездки в 3130 метров — оптимальное с точки зрения износа самоката. Можно ли сказать, что среднее расстояние, которое проезжают пользователи с подпиской за одну поездку, не превышает 3130 метров? Проверьте гипотезу и сделайте выводы."
   ]
  },
  {
   "cell_type": "markdown",
   "id": "f1b87fb6",
   "metadata": {},
   "source": [
    "Нулевая и альтернативная гипотезы:\n",
    "\n",
    "**Гипотеза Н0**: Среднее расстояние поездки = 3130 метров.\n",
    "\n",
    "**Гипотеза Н1**: Среднее расстояние поездки > 3130 метров."
   ]
  },
  {
   "cell_type": "code",
   "execution_count": 46,
   "id": "eb586c7c",
   "metadata": {},
   "outputs": [
    {
     "name": "stdout",
     "output_type": "stream",
     "text": [
      "0.9195368847849785\n",
      "Вывод: Не получилось отвергнуть нулевую гипотезу\n"
     ]
    }
   ],
   "source": [
    "results = st.ttest_1samp(total_ultra['distance'], 3130,  alternative='greater')\n",
    "print(results.pvalue)\n",
    "if results.pvalue < .05:\n",
    "    print('Отвергаем нулевую гипотезу')\n",
    "else:\n",
    "    print('Вывод: Не получилось отвергнуть нулевую гипотезу')"
   ]
  },
  {
   "cell_type": "markdown",
   "id": "61213c5e",
   "metadata": {},
   "source": [
    "### Проверьте гипотезу о том, будет ли помесячная выручка от пользователей с подпиской по месяцам выше, чем выручка от пользователей без подписки. Сделайте вывод."
   ]
  },
  {
   "cell_type": "markdown",
   "id": "e91a7716",
   "metadata": {},
   "source": [
    "Нулевая и альтернативная гипотезы:\n",
    "\n",
    "**Гипотеза Н0**: Среднее выручки с подпиской = средней выручки без подписки.\n",
    "\n",
    "**Гипотеза Н1**: Среднее выручки с подпиской > выручки без подписки."
   ]
  },
  {
   "cell_type": "code",
   "execution_count": 47,
   "id": "a14b5bc9",
   "metadata": {},
   "outputs": [
    {
     "data": {
      "text/plain": [
       "0       451.0\n",
       "1       241.0\n",
       "2       475.0\n",
       "3       391.0\n",
       "4       535.0\n",
       "        ...  \n",
       "4528    301.0\n",
       "4529    469.0\n",
       "4530    385.0\n",
       "4531    295.0\n",
       "4532    355.0\n",
       "Name: revenue, Length: 4533, dtype: float64"
      ]
     },
     "execution_count": 47,
     "metadata": {},
     "output_type": "execute_result"
    }
   ],
   "source": [
    "users_months.reset_index()[users_months.reset_index()['subscription_fee'] > 0]['revenue']"
   ]
  },
  {
   "cell_type": "code",
   "execution_count": 48,
   "id": "9a45afdb",
   "metadata": {},
   "outputs": [
    {
     "name": "stdout",
     "output_type": "stream",
     "text": [
      "1.8850394384715216e-31\n",
      "Отвергаем нулевую гипотезу\n"
     ]
    }
   ],
   "source": [
    "results = st.ttest_ind(\n",
    "    users_months.reset_index()[users_months.reset_index()['subscription_fee'] > 0]['revenue'], #Взяли срез по столбцу subscription_fee, где есть под\n",
    "    users_months.reset_index()[users_months.reset_index()['subscription_fee'] == 0]['revenue'], #Взяли срез по столбцу subscription_fee, где нет под\n",
    "    alternative='greater'\n",
    ")\n",
    "#Попробовать черз query\n",
    "print(results.pvalue)\n",
    "if results.pvalue < .05:\n",
    "    print('Отвергаем нулевую гипотезу')\n",
    "else:\n",
    "    print('Вывод: Не получилось отвергнуть нулевую гипотезу')"
   ]
  },
  {
   "cell_type": "markdown",
   "id": "20ae91fe",
   "metadata": {},
   "source": [
    "###  Представьте такую ситуацию: техническая команда сервиса обновила сервера, с которыми взаимодействует мобильное приложение. Она надеется, что из-за этого количество обращений в техподдержку значимо снизилось. Некоторый файл содержит для каждого пользователя данные о количестве обращений до обновления и после него. Какой тест вам понадобился бы для проверки этой гипотезы?"
   ]
  },
  {
   "cell_type": "markdown",
   "id": "1c4c4b6f",
   "metadata": {},
   "source": [
    "Когда мы применяет т-тесты:\n",
    "+ Выборочные средние нормально распределены (ЦПТ)\n",
    "+ Дисперсии генеральной совокупности равны\n",
    "+ Генеральный совокупности не зависят друг от друга.\n",
    "\n",
    "В данном примере произошло обновление сервиса и генеральная совокупность изменилась. Применима гипотеза о равенстве средних для **зависимых выборок**.\n",
    "\n",
    "`scipy.stats.ttets_rell()`"
   ]
  },
  {
   "cell_type": "markdown",
   "id": "7914fb2f",
   "metadata": {},
   "source": [
    "##  (необязательное задание). Распределения"
   ]
  },
  {
   "cell_type": "markdown",
   "id": "7b7bdf7c",
   "metadata": {},
   "source": [
    "### **Задача:**\n",
    " Отделу маркетинга GoFast поставили задачу: нужно провести акцию с раздачей промокодов на один бесплатный месяц подписки, в рамках которой как минимум 100 существующих клиентов должны продлить эту подписку. То есть по завершении периода действия подписки пользователь может либо отказаться от неё, либо продлить, совершив соответствующий платёж. \n",
    "Эта акция уже проводилась ранее и по итогу выяснилось, что после бесплатного пробного периода подписку продлевают \n",
    "10 % пользователей. Выясните, какое минимальное количество промокодов нужно разослать, чтобы вероятность не выполнить план была примерно 5 %. Подберите параметры распределения, описывающего эту ситуацию, постройте график распределения и сформулируйте ответ на вопрос о количестве промокодов."
   ]
  },
  {
   "cell_type": "code",
   "execution_count": 49,
   "id": "41c78ff6",
   "metadata": {},
   "outputs": [],
   "source": [
    "# Функция расчета количества успешных экспериментов Бернулли\n",
    "# путем аппроксимации биномиального распределения нормальным\n",
    "def ppf(n, p, x):\n",
    "    # (расчет количества успешных экспериментов Бернулли \n",
    "    # путем аппроксимации биномиального распределения нормальным)\n",
    "    \n",
    "    # Параметры биноминального распределения:\n",
    "    # n - количество экспериментов\n",
    "    # p - вероятность успеха\n",
    "    \n",
    "    # x - вероятность расчитываемого значения\n",
    "    \n",
    "    # Расчет параметров нормального распределения\n",
    "    mu = n * p\n",
    "    sigma = (n * p * (1 - p))**.5\n",
    "    # Расчет нормального распределения\n",
    "    distr = st.norm(mu, sigma)\n",
    "    \n",
    "    # Расчет значения для заданной вероятности x\n",
    "    result = distr.ppf(x)\n",
    "    \n",
    "    # Построение графика\n",
    "    arange = np.arange(\n",
    "        (mu - 4 * sigma), \n",
    "        (mu + 4 * sigma), \n",
    "        1\n",
    "    )\n",
    "    plt.plot(arange, st.norm.pdf(arange, mu, sigma), 'b-')\n",
    "    plt.axvline(x=result, color='green')\n",
    "    plt.show()\n",
    "    \n",
    "    return result"
   ]
  },
  {
   "cell_type": "code",
   "execution_count": 50,
   "id": "c06af9e1",
   "metadata": {},
   "outputs": [
    {
     "data": {
      "image/png": "[encoded data removed]",
      "text/plain": [
       "<Figure size 640x480 with 1 Axes>"
      ]
     },
     "metadata": {},
     "output_type": "display_data"
    },
    {
     "data": {
      "text/plain": [
       "100.02841955223582"
      ]
     },
     "execution_count": 50,
     "metadata": {},
     "output_type": "execute_result"
    }
   ],
   "source": [
    "ppf (1169, .1, .05)"
   ]
  },
  {
   "cell_type": "markdown",
   "id": "7e42cfa4",
   "metadata": {},
   "source": [
    "Требуется разослать 1169 промокодов, которые приводят к продлению подписки с вероятностью 10%, чтобы 100 клиентов продлили подписку с вероятностью неуспеха не более 5%."
   ]
  },
  {
   "cell_type": "markdown",
   "id": "b908cf68",
   "metadata": {},
   "source": [
    "### **Задача:**\n",
    "\n",
    "Отдел маркетинга рассылает клиентам push-уведомления в мобильном приложении. Клиенты могут открыть его или не открывать. Известно, что уведомления открывают около 40 % получивших клиентов. Отдел планирует разослать 1 млн уведомлений. С помощью аппроксимации постройте примерный график распределения и оцените вероятность того, что уведомление откроют не более 399,5 тыс. пользователей."
   ]
  },
  {
   "cell_type": "code",
   "execution_count": 51,
   "id": "20c808b5",
   "metadata": {},
   "outputs": [],
   "source": [
    "# Функция расчета количества успешных экспериментов Бернулли\n",
    "# путем аппроксимации биномиального распределения нормальным\n",
    "def cdf(n, p, x):\n",
    "    # (расчет количества успешных экспериментов Бернулли \n",
    "    # путем аппроксимации биномиального распределения нормальным)\n",
    "    \n",
    "    # Параметры биноминального распределения:\n",
    "    # n - количество экспериментов\n",
    "    # p - вероятность успеха\n",
    "    \n",
    "    # x - вероятность расчитываемого значения\n",
    "    \n",
    "    # Расчет параметров нормального распределения\n",
    "    mu = n * p\n",
    "    sigma = (n * p * (1 - p))**.5\n",
    "    # Расчет нормального распределения\n",
    "    distr = st.norm(mu, sigma)\n",
    "    \n",
    "    # Расчет значения для заданной вероятности x\n",
    "    result = distr.cdf(x)\n",
    "    \n",
    "    # Построение графика\n",
    "    arange = np.arange(\n",
    "        (mu - 4 * sigma), \n",
    "        (mu + 4 * sigma), \n",
    "        1\n",
    "    )\n",
    "    plt.plot(arange, st.norm.pdf(arange, mu, sigma), 'b-')\n",
    "    plt.axvline(x=x, color='yellow')\n",
    "    plt.show()\n",
    "    "
   ]
  },
  {
   "cell_type": "code",
   "execution_count": 52,
   "id": "9f4fdf44",
   "metadata": {},
   "outputs": [
    {
     "data": {
      "image/png": "[encoded data removed]",
      "text/plain": [
       "<Figure size 640x480 with 1 Axes>"
      ]
     },
     "metadata": {},
     "output_type": "display_data"
    }
   ],
   "source": [
    "cdf(1000000, .4, 399500)"
   ]
  },
  {
   "cell_type": "markdown",
   "id": "d18b05dd",
   "metadata": {},
   "source": [
    "399.5 тыс. клиентов откроют уведомления с вероятностью 15.37%, если разослать 1 млн. уведомлений, которые открывают клиенты с вероятностью 40%."
   ]
  },
  {
   "cell_type": "markdown",
   "id": "e584dc59",
   "metadata": {},
   "source": [
    "##  Выводы:"
   ]
  },
  {
   "cell_type": "markdown",
   "id": "8b1f8e3d",
   "metadata": {},
   "source": [
    "В ходе  анализа данных было опредлено:\n",
    "\n",
    " + Пользователей с подпиской «free» всего 835, что составляет 54.43% от общего количества и на 136 больше, чем с подпиской «ultra».\n",
    " + Услугами сервиса аренды самокатов пользуются люди от 12 до 43 лет. Максимальное количество пользователей в возрасте 25 лет, этот же возраст является медианным.\n",
    " + Большая часть всех пользователей используют подписку «free». Всего их 835, что составляет 54.43% от общего количества и на 136 больше, чем с подпиской «ultra».\n",
    " + Максимальное количество в 219 поездок совершено в Пятигорске. Минимальное количество в 168 поездок совершено в Москве.\n",
    " + За одну поездку пользователи преодолевают от 1 до 7211 метров. Медиана всех значений равна 3134 метров. Наблюдаются два пика. Малый пик около 700 метров, большой пик около 3200 метров. Между пиками значения нормально распределены.       +Продолжительность поездок нормально распределена от 0 до 41 минуты. Продолжительность в 18 минут является как наиболее распространенной так и медианным значением. Наблюдается выброс размером менее 100 поездок с продолжительностью в 1 минуту.\n",
    " \n",
    " \n",
    "В результате группировки данных выявлено:\n",
    "\n",
    " + Поездок с исползьзованием подписки ‘free’ на 5068 больше, чем с использованием подписки ‘ultra’, и составляет 11568.\n",
    " + Возрастные показатели пользователей с разным типом подписки в целом схожи, за исключением максимального возраста, который на 5 лет больше у пользователей с подпиской ‘free’.\n",
    " + Дистанция поездок при использовании подписки ‘free’ более разнообразна. Так максимальная дистанция больше на 1511 метров, а минимальная на 243 метра меньше, чем при использовании подписки ‘ultra’. Об этом же свидетельствует и стандартное отклонение, которое при использовании подписки ‘free’ больше на 409 метров, чем при использовании подписки ‘ultra’. Средняя дистанция при использовании подписки ‘free’ короче. Это следует из того, что среднее значениее на 70 метров, а медиана на 34 метра, меньше, чем при использовании ‘ultra’. При использовании обоих подписок наблюдается два пика. Первый небольшой пик на меньших дистанциях и второй основной пик на больших дистанциях. Так меньший пик ‘ultra’ находится в районе 1000 метров, а основной в районе 3100 метров с небольшой коррекцией около 4000 метров. Меншьй пик ‘free’ в районе 700 метров, а основной 2500-3500 метров. В целом пики ‘ultra’ более выраженные и имеют меньший разрбос.\n",
    " + Продолжительность поездок при использовании подписки ‘free’ немного меньше по всем показателям, чем при использовании ‘ultra’. Например, минимальное время меньше на 3.26 минут, а максимальное меньше на 5.88 минут. В обоих случаях количество поездок относительно нормально распределено в зависимости от их продолжительности. Пик количества поездок приходится на 17-18 минут. При использовании подписки ‘free’ наблюдается пик в около 100 поездок с продолжительностью около 1 минуты.\n",
    " + Сезонность использования разного типа подписки схожа за исключением медианы, которая у подписчиков ‘ultra’ приходится на июнь, а у подписчиков ‘free’ на июль. При использовании обоих типов подписок наблюдаются спады пользовательской активности в феврале и ноябре. Максимум поездок с подпиской ‘ultra’ в мае (597 поездок, это 3.3% от всех поездок). Максимумы поездок с подпиской ‘free’ в январе (1001 поездка, это 5.54% от всех поездок), сентябре (1002 поездки) и декабре (1003 поездки). При использовании подписки ‘free’ нет выраженной сезонности, кроме спдов в феврале и ноябре. При использовании подписки ‘ultra’ наблюдается более выраженная сезонность. Количество поездок растет с февраля по май, а затем медленно снижается до ноября.\n",
    " + Во всех городах доминирует подписка ‘free’. Пятигорск является лидером по использованию этиго типа подписки (1672 поездок). Ростов-на-Дону является лидером по использованию подписки ‘ultra’ (885 поездок).\n",
    " +  Гипотезу о том, что средняя продолжительность поездок с подпиской ‘ultra’ равна средней продолжительности с подпиской ‘free’ мы отвергли\n",
    " + Гипотезу о том, что среднее расстояние поездки с использованием подписки ‘ultra’ равно  3130 метрам не смогли отвергнуть. \n",
    " + В ходе иследования была отвергнута гипотеза о том, что среднее выручки с подпиской равна средней выручки без подписки. Это значит, что в чаще всего среднее выручки с подпиской больше средней вырочки без подписки.\n",
    "\n",
    "В задачах на распределение подсчитано:\n",
    "\n",
    "+ Требуется разослать 1169 промокодов, которые приводят к продлению подписки с вероятностью 10%, чтобы 100 клиентов продлили подписку с вероятностью неуспеха не более 5%.\n",
    "+ 399.5 тыс. клиентов откроют уведомления с вероятностью 15.37%, если разослать 1 млн. уведомлений, которые открывают клиенты с вероятностью 40%.\n",
    "\n",
    "\n",
    "**Рекомендации по развитию сервиса аренды самокатов:**\n",
    "\n",
    "+ Чтобы помочь бизнесу вырасти нужно предложить в городе Ростов-на-Дону  промокоды пользователям с подпиской о продлении подписки (так как с подпиской выручка компании больше.)\n",
    "+ Так же в других городах, такие как Москва запустить рекламу о сервисе. Возможно о нем мало кто знает.\n",
    "+ В Пятигорске выявить с помощью анализа пользователей, кто часто использует сервис и предложить им подписку."
   ]
  }
 ],
 "metadata": {
  "ExecuteTimeLog": [
   {
    "duration": 63,
    "start_time": "2024-11-10T05:45:43.713Z"
   },
   {
    "duration": 1377,
    "start_time": "2024-11-10T05:52:01.390Z"
   },
   {
    "duration": 173,
    "start_time": "2024-11-10T05:56:29.259Z"
   },
   {
    "duration": 35,
    "start_time": "2024-11-10T05:56:45.365Z"
   },
   {
    "duration": 246,
    "start_time": "2024-11-10T05:57:09.675Z"
   },
   {
    "duration": 2,
    "start_time": "2024-11-10T05:57:42.354Z"
   },
   {
    "duration": 67,
    "start_time": "2024-11-10T05:57:43.150Z"
   },
   {
    "duration": 93,
    "start_time": "2024-11-10T05:59:27.026Z"
   },
   {
    "duration": 70,
    "start_time": "2024-11-10T06:00:10.647Z"
   },
   {
    "duration": 88,
    "start_time": "2024-11-10T06:00:23.353Z"
   },
   {
    "duration": 27,
    "start_time": "2024-11-10T06:06:51.103Z"
   },
   {
    "duration": 16,
    "start_time": "2024-11-10T06:09:36.889Z"
   },
   {
    "duration": 26,
    "start_time": "2024-11-10T06:09:58.129Z"
   },
   {
    "duration": 10,
    "start_time": "2024-11-10T06:14:51.687Z"
   },
   {
    "duration": 9,
    "start_time": "2024-11-10T06:14:57.009Z"
   },
   {
    "duration": 8,
    "start_time": "2024-11-10T06:17:49.686Z"
   },
   {
    "duration": 5,
    "start_time": "2024-11-10T06:18:10.860Z"
   },
   {
    "duration": 11,
    "start_time": "2024-11-10T06:18:20.712Z"
   },
   {
    "duration": 11,
    "start_time": "2024-11-10T06:21:50.483Z"
   },
   {
    "duration": 7,
    "start_time": "2024-11-10T06:22:06.299Z"
   },
   {
    "duration": 6,
    "start_time": "2024-11-10T06:22:17.802Z"
   },
   {
    "duration": 68,
    "start_time": "2024-11-10T06:23:03.797Z"
   },
   {
    "duration": 6,
    "start_time": "2024-11-10T06:23:08.884Z"
   },
   {
    "duration": 6,
    "start_time": "2024-11-10T06:24:40.822Z"
   },
   {
    "duration": 10,
    "start_time": "2024-11-10T06:24:41.513Z"
   },
   {
    "duration": 7,
    "start_time": "2024-11-10T06:24:48.450Z"
   },
   {
    "duration": 7,
    "start_time": "2024-11-10T06:25:10.535Z"
   },
   {
    "duration": 27,
    "start_time": "2024-11-10T06:25:30.976Z"
   },
   {
    "duration": 10,
    "start_time": "2024-11-10T06:25:31.348Z"
   },
   {
    "duration": 6,
    "start_time": "2024-11-10T06:25:32.212Z"
   },
   {
    "duration": 7,
    "start_time": "2024-11-10T06:25:32.961Z"
   },
   {
    "duration": 5,
    "start_time": "2024-11-10T06:25:35.074Z"
   },
   {
    "duration": 15,
    "start_time": "2024-11-10T06:32:33.244Z"
   },
   {
    "duration": 3,
    "start_time": "2024-11-10T06:32:41.771Z"
   },
   {
    "duration": 83,
    "start_time": "2024-11-10T06:32:43.821Z"
   },
   {
    "duration": 24,
    "start_time": "2024-11-10T06:32:43.979Z"
   },
   {
    "duration": 22,
    "start_time": "2024-11-10T06:32:44.268Z"
   },
   {
    "duration": 10,
    "start_time": "2024-11-10T06:32:44.417Z"
   },
   {
    "duration": 6,
    "start_time": "2024-11-10T06:32:44.753Z"
   },
   {
    "duration": 6,
    "start_time": "2024-11-10T06:32:45.080Z"
   },
   {
    "duration": 5,
    "start_time": "2024-11-10T06:32:45.405Z"
   },
   {
    "duration": 4,
    "start_time": "2024-11-10T06:32:45.877Z"
   },
   {
    "duration": 5,
    "start_time": "2024-11-10T06:33:32.587Z"
   },
   {
    "duration": 553,
    "start_time": "2024-11-10T06:36:47.101Z"
   },
   {
    "duration": 523,
    "start_time": "2024-11-10T06:38:13.160Z"
   },
   {
    "duration": 984,
    "start_time": "2024-11-10T06:38:27.650Z"
   },
   {
    "duration": 1038,
    "start_time": "2024-11-10T06:38:49.932Z"
   },
   {
    "duration": 3,
    "start_time": "2024-11-10T06:46:40.354Z"
   },
   {
    "duration": 44,
    "start_time": "2024-11-12T02:01:19.463Z"
   },
   {
    "duration": 4,
    "start_time": "2024-11-12T02:01:25.164Z"
   },
   {
    "duration": 6,
    "start_time": "2024-11-12T02:01:26.309Z"
   },
   {
    "duration": 3,
    "start_time": "2024-11-12T02:02:31.536Z"
   },
   {
    "duration": 5,
    "start_time": "2024-11-12T02:02:32.464Z"
   },
   {
    "duration": 4,
    "start_time": "2024-11-12T02:03:04.088Z"
   },
   {
    "duration": 5,
    "start_time": "2024-11-12T02:03:05.864Z"
   },
   {
    "duration": 5,
    "start_time": "2024-11-12T02:03:27.101Z"
   },
   {
    "duration": 1183,
    "start_time": "2024-11-12T02:03:43.040Z"
   },
   {
    "duration": 307,
    "start_time": "2024-11-12T02:03:44.224Z"
   },
   {
    "duration": 20,
    "start_time": "2024-11-12T02:03:44.532Z"
   },
   {
    "duration": 16,
    "start_time": "2024-11-12T02:03:44.554Z"
   },
   {
    "duration": 8,
    "start_time": "2024-11-12T02:03:44.571Z"
   },
   {
    "duration": 4,
    "start_time": "2024-11-12T02:03:44.580Z"
   },
   {
    "duration": 4,
    "start_time": "2024-11-12T02:03:44.644Z"
   },
   {
    "duration": 4,
    "start_time": "2024-11-12T02:03:45.001Z"
   },
   {
    "duration": 3,
    "start_time": "2024-11-12T02:03:45.600Z"
   },
   {
    "duration": 3,
    "start_time": "2024-11-12T02:03:45.786Z"
   },
   {
    "duration": 4,
    "start_time": "2024-11-12T02:03:45.981Z"
   },
   {
    "duration": 65,
    "start_time": "2024-11-12T02:03:46.368Z"
   },
   {
    "duration": 6,
    "start_time": "2024-11-12T02:06:42.287Z"
   },
   {
    "duration": 11,
    "start_time": "2024-11-12T02:06:42.709Z"
   },
   {
    "duration": 5,
    "start_time": "2024-11-12T02:06:43.120Z"
   },
   {
    "duration": 2,
    "start_time": "2024-11-12T02:07:41.536Z"
   },
   {
    "duration": 3,
    "start_time": "2024-11-12T02:07:41.920Z"
   },
   {
    "duration": 8,
    "start_time": "2024-11-12T02:07:42.319Z"
   },
   {
    "duration": 3,
    "start_time": "2024-11-12T02:07:45.181Z"
   },
   {
    "duration": 4,
    "start_time": "2024-11-12T02:07:46.586Z"
   },
   {
    "duration": 245,
    "start_time": "2024-11-12T02:07:47.737Z"
   },
   {
    "duration": 147,
    "start_time": "2024-11-12T02:14:32.340Z"
   },
   {
    "duration": 170,
    "start_time": "2024-11-12T02:15:26.007Z"
   },
   {
    "duration": 223,
    "start_time": "2024-11-12T02:17:18.774Z"
   },
   {
    "duration": 8,
    "start_time": "2024-11-12T02:18:00.631Z"
   },
   {
    "duration": 7,
    "start_time": "2024-11-12T02:18:14.914Z"
   },
   {
    "duration": 164,
    "start_time": "2024-11-12T02:18:32.780Z"
   },
   {
    "duration": 60,
    "start_time": "2024-11-12T02:19:11.673Z"
   },
   {
    "duration": 178,
    "start_time": "2024-11-12T02:19:19.129Z"
   },
   {
    "duration": 1157,
    "start_time": "2024-11-12T02:21:30.800Z"
   },
   {
    "duration": 1255,
    "start_time": "2024-11-12T02:22:14.895Z"
   },
   {
    "duration": 152,
    "start_time": "2024-11-12T02:22:28.918Z"
   },
   {
    "duration": 223,
    "start_time": "2024-11-12T02:23:26.222Z"
   },
   {
    "duration": 182,
    "start_time": "2024-11-12T02:24:05.165Z"
   },
   {
    "duration": 287,
    "start_time": "2024-11-12T02:24:08.742Z"
   },
   {
    "duration": 208,
    "start_time": "2024-11-12T02:24:41.295Z"
   },
   {
    "duration": 167,
    "start_time": "2024-11-12T02:26:23.341Z"
   },
   {
    "duration": 169,
    "start_time": "2024-11-12T02:26:43.195Z"
   },
   {
    "duration": 60,
    "start_time": "2024-11-12T02:26:54.399Z"
   },
   {
    "duration": 202,
    "start_time": "2024-11-12T02:27:09.343Z"
   },
   {
    "duration": 23,
    "start_time": "2024-11-12T02:57:02.508Z"
   },
   {
    "duration": 92,
    "start_time": "2024-11-12T03:01:13.955Z"
   },
   {
    "duration": 25,
    "start_time": "2024-11-12T03:01:24.075Z"
   },
   {
    "duration": 23,
    "start_time": "2024-11-12T03:01:27.045Z"
   },
   {
    "duration": 17,
    "start_time": "2024-11-12T03:03:14.995Z"
   },
   {
    "duration": 25,
    "start_time": "2024-11-12T03:03:20.902Z"
   },
   {
    "duration": 95,
    "start_time": "2024-11-12T03:03:36.315Z"
   },
   {
    "duration": 14,
    "start_time": "2024-11-12T03:03:44.597Z"
   },
   {
    "duration": 2,
    "start_time": "2024-11-12T03:05:41.861Z"
   },
   {
    "duration": 2,
    "start_time": "2024-11-12T03:06:06.565Z"
   },
   {
    "duration": 65,
    "start_time": "2024-11-12T03:09:02.623Z"
   },
   {
    "duration": 283,
    "start_time": "2024-11-12T03:09:54.866Z"
   },
   {
    "duration": 215,
    "start_time": "2024-11-12T03:10:35.989Z"
   },
   {
    "duration": 221,
    "start_time": "2024-11-12T03:10:51.857Z"
   },
   {
    "duration": 71,
    "start_time": "2024-11-12T03:12:02.327Z"
   },
   {
    "duration": 29,
    "start_time": "2024-11-12T03:15:14.451Z"
   },
   {
    "duration": 53,
    "start_time": "2024-11-12T03:15:55.186Z"
   },
   {
    "duration": 33,
    "start_time": "2024-11-12T03:16:06.242Z"
   },
   {
    "duration": 22,
    "start_time": "2024-11-12T03:16:35.683Z"
   },
   {
    "duration": 24,
    "start_time": "2024-11-12T03:17:52.127Z"
   },
   {
    "duration": 34,
    "start_time": "2024-11-12T03:18:07.372Z"
   },
   {
    "duration": 51,
    "start_time": "2024-11-12T03:21:36.247Z"
   },
   {
    "duration": 37,
    "start_time": "2024-11-12T03:21:49.562Z"
   },
   {
    "duration": 221,
    "start_time": "2024-11-12T03:22:13.176Z"
   },
   {
    "duration": 36,
    "start_time": "2024-11-12T03:23:24.004Z"
   },
   {
    "duration": 37,
    "start_time": "2024-11-12T03:26:29.157Z"
   },
   {
    "duration": 2,
    "start_time": "2024-11-12T03:27:45.188Z"
   },
   {
    "duration": 18,
    "start_time": "2024-11-12T03:27:49.083Z"
   },
   {
    "duration": 36,
    "start_time": "2024-11-12T03:28:09.783Z"
   },
   {
    "duration": 41,
    "start_time": "2024-11-12T03:49:35.302Z"
   },
   {
    "duration": 5,
    "start_time": "2024-11-12T03:59:15.774Z"
   },
   {
    "duration": 413,
    "start_time": "2024-11-12T04:02:08.307Z"
   },
   {
    "duration": 124,
    "start_time": "2024-11-12T04:11:56.248Z"
   },
   {
    "duration": 67,
    "start_time": "2024-11-12T04:12:41.100Z"
   },
   {
    "duration": 81,
    "start_time": "2024-11-12T04:12:50.457Z"
   },
   {
    "duration": 67,
    "start_time": "2024-11-12T04:13:21.423Z"
   },
   {
    "duration": 59,
    "start_time": "2024-11-12T04:13:32.337Z"
   },
   {
    "duration": 4,
    "start_time": "2024-11-12T04:13:37.859Z"
   },
   {
    "duration": 66,
    "start_time": "2024-11-12T04:13:44.309Z"
   },
   {
    "duration": 82,
    "start_time": "2024-11-12T04:14:10.321Z"
   },
   {
    "duration": 71,
    "start_time": "2024-11-12T04:14:15.789Z"
   },
   {
    "duration": 53,
    "start_time": "2024-11-12T04:14:21.040Z"
   },
   {
    "duration": 4,
    "start_time": "2024-11-12T04:14:30.006Z"
   },
   {
    "duration": 3,
    "start_time": "2024-11-12T04:14:36.741Z"
   },
   {
    "duration": 84,
    "start_time": "2024-11-12T04:14:52.606Z"
   },
   {
    "duration": 79,
    "start_time": "2024-11-12T04:17:19.715Z"
   },
   {
    "duration": 72,
    "start_time": "2024-11-12T04:18:48.546Z"
   },
   {
    "duration": 284,
    "start_time": "2024-11-12T04:19:31.108Z"
   },
   {
    "duration": 373,
    "start_time": "2024-11-12T04:19:44.094Z"
   },
   {
    "duration": 448,
    "start_time": "2024-11-12T04:22:00.258Z"
   },
   {
    "duration": 8,
    "start_time": "2024-11-12T04:22:19.899Z"
   },
   {
    "duration": 8,
    "start_time": "2024-11-12T04:22:38.081Z"
   },
   {
    "duration": 8,
    "start_time": "2024-11-12T04:22:53.940Z"
   },
   {
    "duration": 8,
    "start_time": "2024-11-12T04:23:25.879Z"
   },
   {
    "duration": 8,
    "start_time": "2024-11-12T04:24:09.569Z"
   },
   {
    "duration": 5,
    "start_time": "2024-11-12T04:24:15.321Z"
   },
   {
    "duration": 358,
    "start_time": "2024-11-12T04:24:15.697Z"
   },
   {
    "duration": 9,
    "start_time": "2024-11-12T04:24:17.331Z"
   },
   {
    "duration": 87,
    "start_time": "2024-11-12T04:25:35.620Z"
   },
   {
    "duration": 290,
    "start_time": "2024-11-12T04:25:52.801Z"
   },
   {
    "duration": 346,
    "start_time": "2024-11-12T04:26:17.035Z"
   },
   {
    "duration": 353,
    "start_time": "2024-11-12T04:51:04.547Z"
   },
   {
    "duration": 3,
    "start_time": "2024-11-12T04:53:42.975Z"
   },
   {
    "duration": 35,
    "start_time": "2024-11-12T05:00:00.939Z"
   },
   {
    "duration": 58,
    "start_time": "2024-11-12T05:26:12.208Z"
   },
   {
    "duration": 40,
    "start_time": "2024-11-12T05:26:18.851Z"
   },
   {
    "duration": 47,
    "start_time": "2024-11-12T05:26:26.482Z"
   },
   {
    "duration": 45,
    "start_time": "2024-11-12T05:28:39.139Z"
   },
   {
    "duration": 41,
    "start_time": "2024-11-12T05:28:51.904Z"
   },
   {
    "duration": 1053,
    "start_time": "2024-11-12T05:32:35.756Z"
   },
   {
    "duration": 14,
    "start_time": "2024-11-12T05:33:24.298Z"
   },
   {
    "duration": 764,
    "start_time": "2024-11-12T05:33:49.624Z"
   },
   {
    "duration": 41,
    "start_time": "2024-11-12T05:34:06.861Z"
   },
   {
    "duration": 783,
    "start_time": "2024-11-12T05:34:08.415Z"
   },
   {
    "duration": 46,
    "start_time": "2024-11-12T05:34:48.557Z"
   },
   {
    "duration": 17,
    "start_time": "2024-11-12T05:35:22.428Z"
   },
   {
    "duration": 2,
    "start_time": "2024-11-12T05:37:45.385Z"
   },
   {
    "duration": 65,
    "start_time": "2024-11-12T05:40:49.524Z"
   },
   {
    "duration": 18,
    "start_time": "2024-11-12T05:40:55.746Z"
   },
   {
    "duration": 2,
    "start_time": "2024-11-12T05:43:00.790Z"
   },
   {
    "duration": 5,
    "start_time": "2024-11-12T06:36:07.543Z"
   },
   {
    "duration": 62,
    "start_time": "2024-11-12T06:41:13.297Z"
   },
   {
    "duration": 4,
    "start_time": "2024-11-12T06:43:03.823Z"
   },
   {
    "duration": 4,
    "start_time": "2024-11-12T06:43:48.818Z"
   },
   {
    "duration": 4,
    "start_time": "2024-11-12T06:44:36.032Z"
   },
   {
    "duration": 14,
    "start_time": "2024-11-12T06:50:02.371Z"
   },
   {
    "duration": 6,
    "start_time": "2024-11-12T06:50:21.917Z"
   },
   {
    "duration": 7,
    "start_time": "2024-11-12T06:51:14.839Z"
   },
   {
    "duration": 4,
    "start_time": "2024-11-12T07:11:13.558Z"
   },
   {
    "duration": 289,
    "start_time": "2024-11-12T07:11:14.127Z"
   },
   {
    "duration": 197,
    "start_time": "2024-11-12T07:11:21.909Z"
   },
   {
    "duration": 219,
    "start_time": "2024-11-12T07:11:30.676Z"
   },
   {
    "duration": 253,
    "start_time": "2024-11-12T07:11:37.258Z"
   },
   {
    "duration": 216,
    "start_time": "2024-11-12T07:11:42.561Z"
   },
   {
    "duration": 233,
    "start_time": "2024-11-12T07:11:47.641Z"
   },
   {
    "duration": 4,
    "start_time": "2024-11-12T07:18:34.803Z"
   },
   {
    "duration": 221,
    "start_time": "2024-11-12T07:18:34.875Z"
   },
   {
    "duration": 5,
    "start_time": "2024-11-12T07:19:18.436Z"
   },
   {
    "duration": 211,
    "start_time": "2024-11-12T07:19:20.185Z"
   },
   {
    "duration": 3,
    "start_time": "2024-11-12T07:20:21.380Z"
   },
   {
    "duration": 78,
    "start_time": "2024-11-12T07:20:21.583Z"
   },
   {
    "duration": 22,
    "start_time": "2024-11-12T07:20:21.959Z"
   },
   {
    "duration": 18,
    "start_time": "2024-11-12T07:20:22.385Z"
   },
   {
    "duration": 12,
    "start_time": "2024-11-12T07:20:22.582Z"
   },
   {
    "duration": 5,
    "start_time": "2024-11-12T07:20:22.995Z"
   },
   {
    "duration": 5,
    "start_time": "2024-11-12T07:20:23.380Z"
   },
   {
    "duration": 6,
    "start_time": "2024-11-12T07:20:23.815Z"
   },
   {
    "duration": 2,
    "start_time": "2024-11-12T07:20:24.434Z"
   },
   {
    "duration": 3,
    "start_time": "2024-11-12T07:20:24.646Z"
   },
   {
    "duration": 9,
    "start_time": "2024-11-12T07:20:24.858Z"
   },
   {
    "duration": 4,
    "start_time": "2024-11-12T07:20:25.045Z"
   },
   {
    "duration": 4,
    "start_time": "2024-11-12T07:20:25.249Z"
   },
   {
    "duration": 171,
    "start_time": "2024-11-12T07:20:25.670Z"
   },
   {
    "duration": 141,
    "start_time": "2024-11-12T07:20:26.309Z"
   },
   {
    "duration": 184,
    "start_time": "2024-11-12T07:20:26.960Z"
   },
   {
    "duration": 274,
    "start_time": "2024-11-12T07:20:27.576Z"
   },
   {
    "duration": 251,
    "start_time": "2024-11-12T07:20:28.216Z"
   },
   {
    "duration": 33,
    "start_time": "2024-11-12T07:20:28.841Z"
   },
   {
    "duration": 28,
    "start_time": "2024-11-12T07:20:29.045Z"
   },
   {
    "duration": 39,
    "start_time": "2024-11-12T07:20:29.646Z"
   },
   {
    "duration": 49,
    "start_time": "2024-11-12T07:20:30.293Z"
   },
   {
    "duration": 42,
    "start_time": "2024-11-12T07:20:30.915Z"
   },
   {
    "duration": 4,
    "start_time": "2024-11-12T07:20:31.608Z"
   },
   {
    "duration": 366,
    "start_time": "2024-11-12T07:20:31.849Z"
   },
   {
    "duration": 363,
    "start_time": "2024-11-12T07:20:32.240Z"
   },
   {
    "duration": 4,
    "start_time": "2024-11-12T07:20:33.091Z"
   },
   {
    "duration": 43,
    "start_time": "2024-11-12T07:20:33.308Z"
   },
   {
    "duration": 18,
    "start_time": "2024-11-12T07:20:33.534Z"
   },
   {
    "duration": 14,
    "start_time": "2024-11-12T07:20:33.927Z"
   },
   {
    "duration": 5,
    "start_time": "2024-11-12T07:21:35.281Z"
   },
   {
    "duration": 5,
    "start_time": "2024-11-12T07:21:48.811Z"
   },
   {
    "duration": 62,
    "start_time": "2024-11-12T07:21:50.394Z"
   },
   {
    "duration": 8,
    "start_time": "2024-11-12T07:21:57.427Z"
   },
   {
    "duration": 7,
    "start_time": "2024-11-12T07:22:04.749Z"
   },
   {
    "duration": 4,
    "start_time": "2024-11-12T07:22:39.132Z"
   },
   {
    "duration": 233,
    "start_time": "2024-11-12T07:22:39.858Z"
   },
   {
    "duration": 4,
    "start_time": "2024-11-12T07:22:52.857Z"
   },
   {
    "duration": 169,
    "start_time": "2024-11-12T07:22:55.232Z"
   },
   {
    "duration": 5,
    "start_time": "2024-11-12T07:23:04.850Z"
   },
   {
    "duration": 195,
    "start_time": "2024-11-12T07:23:05.278Z"
   },
   {
    "duration": 4,
    "start_time": "2024-11-12T07:23:12.795Z"
   },
   {
    "duration": 192,
    "start_time": "2024-11-12T07:23:13.097Z"
   },
   {
    "duration": 4,
    "start_time": "2024-11-12T07:23:32.953Z"
   },
   {
    "duration": 236,
    "start_time": "2024-11-12T07:23:33.451Z"
   },
   {
    "duration": 2,
    "start_time": "2024-11-12T07:24:26.972Z"
   },
   {
    "duration": 4,
    "start_time": "2024-11-12T13:14:34.077Z"
   },
   {
    "duration": 116,
    "start_time": "2024-11-12T13:14:34.082Z"
   },
   {
    "duration": 23,
    "start_time": "2024-11-12T13:14:34.200Z"
   },
   {
    "duration": 18,
    "start_time": "2024-11-12T13:14:34.227Z"
   },
   {
    "duration": 17,
    "start_time": "2024-11-12T13:14:34.246Z"
   },
   {
    "duration": 20,
    "start_time": "2024-11-12T13:14:34.264Z"
   },
   {
    "duration": 12,
    "start_time": "2024-11-12T13:14:34.286Z"
   },
   {
    "duration": 8,
    "start_time": "2024-11-12T13:14:34.299Z"
   },
   {
    "duration": 20,
    "start_time": "2024-11-12T13:14:34.309Z"
   },
   {
    "duration": 3,
    "start_time": "2024-11-12T13:14:34.331Z"
   },
   {
    "duration": 10,
    "start_time": "2024-11-12T13:14:34.336Z"
   },
   {
    "duration": 6,
    "start_time": "2024-11-12T13:14:34.347Z"
   },
   {
    "duration": 32,
    "start_time": "2024-11-12T13:14:34.355Z"
   },
   {
    "duration": 190,
    "start_time": "2024-11-12T13:14:34.388Z"
   },
   {
    "duration": 182,
    "start_time": "2024-11-12T13:14:34.580Z"
   },
   {
    "duration": 212,
    "start_time": "2024-11-12T13:14:34.764Z"
   },
   {
    "duration": 341,
    "start_time": "2024-11-12T13:14:34.977Z"
   },
   {
    "duration": 244,
    "start_time": "2024-11-12T13:14:35.319Z"
   },
   {
    "duration": 36,
    "start_time": "2024-11-12T13:14:35.564Z"
   },
   {
    "duration": 52,
    "start_time": "2024-11-12T13:14:35.602Z"
   },
   {
    "duration": 43,
    "start_time": "2024-11-12T13:14:35.656Z"
   },
   {
    "duration": 65,
    "start_time": "2024-11-12T13:14:35.701Z"
   },
   {
    "duration": 68,
    "start_time": "2024-11-12T13:14:35.768Z"
   },
   {
    "duration": 4,
    "start_time": "2024-11-12T13:14:35.838Z"
   },
   {
    "duration": 430,
    "start_time": "2024-11-12T13:14:35.843Z"
   },
   {
    "duration": 336,
    "start_time": "2024-11-12T13:14:36.275Z"
   },
   {
    "duration": 15,
    "start_time": "2024-11-12T13:14:36.612Z"
   },
   {
    "duration": 46,
    "start_time": "2024-11-12T13:14:36.628Z"
   },
   {
    "duration": 20,
    "start_time": "2024-11-12T13:14:36.675Z"
   },
   {
    "duration": 50,
    "start_time": "2024-11-12T13:14:36.697Z"
   },
   {
    "duration": 6,
    "start_time": "2024-11-12T13:14:36.748Z"
   },
   {
    "duration": 7,
    "start_time": "2024-11-12T13:14:36.755Z"
   },
   {
    "duration": 8,
    "start_time": "2024-11-12T13:14:36.764Z"
   },
   {
    "duration": 5,
    "start_time": "2024-11-12T13:14:36.773Z"
   },
   {
    "duration": 305,
    "start_time": "2024-11-12T13:14:36.779Z"
   },
   {
    "duration": 4,
    "start_time": "2024-11-12T13:14:37.085Z"
   },
   {
    "duration": 287,
    "start_time": "2024-11-12T13:14:37.091Z"
   },
   {
    "duration": 16,
    "start_time": "2024-11-12T13:18:44.238Z"
   },
   {
    "duration": 108,
    "start_time": "2024-11-13T06:51:46.767Z"
   },
   {
    "duration": 199,
    "start_time": "2024-11-13T07:13:21.582Z"
   },
   {
    "duration": 217,
    "start_time": "2024-11-13T07:16:39.483Z"
   },
   {
    "duration": 1328,
    "start_time": "2024-11-13T07:17:40.344Z"
   },
   {
    "duration": 284,
    "start_time": "2024-11-13T07:17:42.764Z"
   },
   {
    "duration": 4,
    "start_time": "2024-11-13T07:18:34.465Z"
   },
   {
    "duration": 88,
    "start_time": "2024-11-13T07:18:43.132Z"
   },
   {
    "duration": 20,
    "start_time": "2024-11-13T07:21:28.761Z"
   },
   {
    "duration": 8,
    "start_time": "2024-11-13T07:31:21.738Z"
   },
   {
    "duration": 8,
    "start_time": "2024-11-13T07:31:29.882Z"
   },
   {
    "duration": 12,
    "start_time": "2024-11-13T07:32:34.086Z"
   },
   {
    "duration": 11,
    "start_time": "2024-11-13T07:33:32.444Z"
   },
   {
    "duration": 10,
    "start_time": "2024-11-13T07:41:26.178Z"
   },
   {
    "duration": 136,
    "start_time": "2024-11-13T07:41:50.655Z"
   },
   {
    "duration": 9,
    "start_time": "2024-11-13T07:42:09.017Z"
   },
   {
    "duration": 10,
    "start_time": "2024-11-13T07:42:36.446Z"
   },
   {
    "duration": 6,
    "start_time": "2024-11-13T07:43:13.210Z"
   },
   {
    "duration": 5,
    "start_time": "2024-11-13T07:45:07.956Z"
   },
   {
    "duration": 5,
    "start_time": "2024-11-13T07:45:15.265Z"
   },
   {
    "duration": 11,
    "start_time": "2024-11-13T07:45:40.984Z"
   },
   {
    "duration": 14,
    "start_time": "2024-11-13T07:46:42.996Z"
   },
   {
    "duration": 9,
    "start_time": "2024-11-13T07:48:34.975Z"
   },
   {
    "duration": 92,
    "start_time": "2024-11-13T07:51:26.562Z"
   },
   {
    "duration": 6,
    "start_time": "2024-11-13T07:51:34.938Z"
   },
   {
    "duration": 7,
    "start_time": "2024-11-13T08:01:22.214Z"
   },
   {
    "duration": 2,
    "start_time": "2024-11-13T08:01:28.374Z"
   },
   {
    "duration": 3,
    "start_time": "2024-11-13T08:01:28.625Z"
   },
   {
    "duration": 9,
    "start_time": "2024-11-13T08:01:28.834Z"
   },
   {
    "duration": 4,
    "start_time": "2024-11-13T08:01:30.921Z"
   },
   {
    "duration": 4,
    "start_time": "2024-11-13T08:01:31.450Z"
   },
   {
    "duration": 297,
    "start_time": "2024-11-13T08:01:32.511Z"
   },
   {
    "duration": 191,
    "start_time": "2024-11-13T08:02:05.724Z"
   },
   {
    "duration": 185,
    "start_time": "2024-11-13T08:08:49.190Z"
   },
   {
    "duration": 224,
    "start_time": "2024-11-13T08:09:04.806Z"
   },
   {
    "duration": 214,
    "start_time": "2024-11-13T08:12:33.094Z"
   },
   {
    "duration": 143,
    "start_time": "2024-11-13T08:13:14.366Z"
   },
   {
    "duration": 4,
    "start_time": "2024-11-13T08:13:36.825Z"
   },
   {
    "duration": 168,
    "start_time": "2024-11-13T08:13:39.005Z"
   },
   {
    "duration": 325,
    "start_time": "2024-11-13T08:14:40.750Z"
   },
   {
    "duration": 339,
    "start_time": "2024-11-13T08:17:02.084Z"
   },
   {
    "duration": 365,
    "start_time": "2024-11-13T08:17:11.259Z"
   },
   {
    "duration": 328,
    "start_time": "2024-11-13T08:17:46.083Z"
   },
   {
    "duration": 269,
    "start_time": "2024-11-13T08:18:18.708Z"
   },
   {
    "duration": 210,
    "start_time": "2024-11-13T08:19:51.640Z"
   },
   {
    "duration": 150,
    "start_time": "2024-11-13T08:20:02.002Z"
   },
   {
    "duration": 8,
    "start_time": "2024-11-13T08:40:35.396Z"
   },
   {
    "duration": 8,
    "start_time": "2024-11-13T08:42:03.146Z"
   },
   {
    "duration": 9,
    "start_time": "2024-11-13T08:45:33.299Z"
   },
   {
    "duration": 22,
    "start_time": "2024-11-13T08:47:15.945Z"
   },
   {
    "duration": 169,
    "start_time": "2024-11-13T08:49:15.171Z"
   },
   {
    "duration": 20,
    "start_time": "2024-11-13T08:54:28.911Z"
   },
   {
    "duration": 4,
    "start_time": "2024-11-13T08:56:36.424Z"
   },
   {
    "duration": 35,
    "start_time": "2024-11-13T08:56:41.120Z"
   },
   {
    "duration": 33,
    "start_time": "2024-11-13T08:56:59.505Z"
   },
   {
    "duration": 7,
    "start_time": "2024-11-13T08:58:12.702Z"
   },
   {
    "duration": 110,
    "start_time": "2024-11-13T08:59:18.507Z"
   },
   {
    "duration": 21,
    "start_time": "2024-11-13T08:59:50.128Z"
   },
   {
    "duration": 6,
    "start_time": "2024-11-13T09:00:15.068Z"
   },
   {
    "duration": 16,
    "start_time": "2024-11-13T09:02:12.366Z"
   },
   {
    "duration": 36,
    "start_time": "2024-11-13T09:02:24.934Z"
   },
   {
    "duration": 34,
    "start_time": "2024-11-13T09:02:25.394Z"
   },
   {
    "duration": 37,
    "start_time": "2024-11-13T09:02:27.489Z"
   },
   {
    "duration": 5,
    "start_time": "2024-11-13T09:02:28.189Z"
   },
   {
    "duration": 404,
    "start_time": "2024-11-13T09:02:28.371Z"
   },
   {
    "duration": 312,
    "start_time": "2024-11-13T09:02:28.931Z"
   },
   {
    "duration": 4,
    "start_time": "2024-11-13T09:02:31.225Z"
   },
   {
    "duration": 18,
    "start_time": "2024-11-13T09:02:31.753Z"
   },
   {
    "duration": 8,
    "start_time": "2024-11-13T09:02:36.616Z"
   },
   {
    "duration": 15,
    "start_time": "2024-11-13T09:03:24.080Z"
   },
   {
    "duration": 4,
    "start_time": "2024-11-13T09:03:50.218Z"
   },
   {
    "duration": 76,
    "start_time": "2024-11-13T09:03:51.045Z"
   },
   {
    "duration": 22,
    "start_time": "2024-11-13T09:03:54.649Z"
   },
   {
    "duration": 19,
    "start_time": "2024-11-13T09:03:57.595Z"
   },
   {
    "duration": 9,
    "start_time": "2024-11-13T09:03:58.201Z"
   },
   {
    "duration": 9,
    "start_time": "2024-11-13T09:04:00.904Z"
   },
   {
    "duration": 8,
    "start_time": "2024-11-13T09:04:26.999Z"
   },
   {
    "duration": 10,
    "start_time": "2024-11-13T09:04:27.660Z"
   },
   {
    "duration": 7,
    "start_time": "2024-11-13T09:04:28.780Z"
   },
   {
    "duration": 10,
    "start_time": "2024-11-13T09:04:29.638Z"
   },
   {
    "duration": 6,
    "start_time": "2024-11-13T09:04:30.283Z"
   },
   {
    "duration": 2,
    "start_time": "2024-11-13T09:04:32.360Z"
   },
   {
    "duration": 3,
    "start_time": "2024-11-13T09:04:32.866Z"
   },
   {
    "duration": 12,
    "start_time": "2024-11-13T09:04:33.164Z"
   },
   {
    "duration": 5,
    "start_time": "2024-11-13T09:04:33.647Z"
   },
   {
    "duration": 4,
    "start_time": "2024-11-13T09:04:34.065Z"
   },
   {
    "duration": 246,
    "start_time": "2024-11-13T09:04:36.233Z"
   },
   {
    "duration": 149,
    "start_time": "2024-11-13T09:04:39.341Z"
   },
   {
    "duration": 258,
    "start_time": "2024-11-13T09:04:41.314Z"
   },
   {
    "duration": 336,
    "start_time": "2024-11-13T09:04:43.043Z"
   },
   {
    "duration": 383,
    "start_time": "2024-11-13T09:04:44.715Z"
   },
   {
    "duration": 22,
    "start_time": "2024-11-13T09:04:48.140Z"
   },
   {
    "duration": 35,
    "start_time": "2024-11-13T09:04:49.325Z"
   },
   {
    "duration": 5,
    "start_time": "2024-11-13T09:04:49.939Z"
   },
   {
    "duration": 28,
    "start_time": "2024-11-13T09:04:50.859Z"
   },
   {
    "duration": 40,
    "start_time": "2024-11-13T09:04:52.783Z"
   },
   {
    "duration": 39,
    "start_time": "2024-11-13T09:04:54.683Z"
   },
   {
    "duration": 42,
    "start_time": "2024-11-13T09:04:57.087Z"
   },
   {
    "duration": 4,
    "start_time": "2024-11-13T09:04:59.712Z"
   },
   {
    "duration": 418,
    "start_time": "2024-11-13T09:05:00.528Z"
   },
   {
    "duration": 365,
    "start_time": "2024-11-13T09:05:02.992Z"
   },
   {
    "duration": 4,
    "start_time": "2024-11-13T09:05:07.825Z"
   },
   {
    "duration": 46,
    "start_time": "2024-11-13T09:05:09.997Z"
   },
   {
    "duration": 17,
    "start_time": "2024-11-13T09:05:24.991Z"
   },
   {
    "duration": 168,
    "start_time": "2024-11-13T09:06:24.112Z"
   },
   {
    "duration": 4,
    "start_time": "2024-11-13T09:10:28.380Z"
   },
   {
    "duration": 10,
    "start_time": "2024-11-13T10:32:13.002Z"
   },
   {
    "duration": 9,
    "start_time": "2024-11-13T10:32:39.286Z"
   },
   {
    "duration": 7,
    "start_time": "2024-11-13T10:33:53.232Z"
   },
   {
    "duration": 21,
    "start_time": "2024-11-13T10:34:12.477Z"
   },
   {
    "duration": 14,
    "start_time": "2024-11-13T10:34:45.739Z"
   },
   {
    "duration": 7,
    "start_time": "2024-11-13T10:35:06.923Z"
   },
   {
    "duration": 1286,
    "start_time": "2024-11-13T16:45:47.623Z"
   },
   {
    "duration": 302,
    "start_time": "2024-11-13T16:45:48.911Z"
   },
   {
    "duration": 24,
    "start_time": "2024-11-13T16:45:49.215Z"
   },
   {
    "duration": 29,
    "start_time": "2024-11-13T16:45:49.241Z"
   },
   {
    "duration": 10,
    "start_time": "2024-11-13T16:45:49.273Z"
   },
   {
    "duration": 10,
    "start_time": "2024-11-13T16:45:49.285Z"
   },
   {
    "duration": 8,
    "start_time": "2024-11-13T16:45:49.297Z"
   },
   {
    "duration": 43,
    "start_time": "2024-11-13T16:45:49.307Z"
   },
   {
    "duration": 13,
    "start_time": "2024-11-13T16:45:49.352Z"
   },
   {
    "duration": 10,
    "start_time": "2024-11-13T16:45:49.367Z"
   },
   {
    "duration": 5,
    "start_time": "2024-11-13T16:45:49.379Z"
   },
   {
    "duration": 3,
    "start_time": "2024-11-13T16:45:49.386Z"
   },
   {
    "duration": 5,
    "start_time": "2024-11-13T16:45:49.390Z"
   },
   {
    "duration": 47,
    "start_time": "2024-11-13T16:45:49.396Z"
   },
   {
    "duration": 19,
    "start_time": "2024-11-13T16:45:49.445Z"
   },
   {
    "duration": 28,
    "start_time": "2024-11-13T16:45:49.466Z"
   },
   {
    "duration": 313,
    "start_time": "2024-11-13T16:45:49.495Z"
   },
   {
    "duration": 208,
    "start_time": "2024-11-13T16:45:49.810Z"
   },
   {
    "duration": 435,
    "start_time": "2024-11-13T16:45:50.020Z"
   },
   {
    "duration": 421,
    "start_time": "2024-11-13T16:45:50.457Z"
   },
   {
    "duration": 414,
    "start_time": "2024-11-13T16:45:50.880Z"
   },
   {
    "duration": 24,
    "start_time": "2024-11-13T16:45:51.296Z"
   },
   {
    "duration": 61,
    "start_time": "2024-11-13T16:45:51.321Z"
   },
   {
    "duration": 6,
    "start_time": "2024-11-13T16:45:51.384Z"
   },
   {
    "duration": 53,
    "start_time": "2024-11-13T16:45:51.391Z"
   },
   {
    "duration": 52,
    "start_time": "2024-11-13T16:45:51.446Z"
   },
   {
    "duration": 72,
    "start_time": "2024-11-13T16:45:51.499Z"
   },
   {
    "duration": 48,
    "start_time": "2024-11-13T16:45:51.574Z"
   },
   {
    "duration": 26,
    "start_time": "2024-11-13T16:45:51.624Z"
   },
   {
    "duration": 618,
    "start_time": "2024-11-13T16:45:51.652Z"
   },
   {
    "duration": 393,
    "start_time": "2024-11-13T16:45:52.273Z"
   },
   {
    "duration": 4,
    "start_time": "2024-11-13T16:45:52.667Z"
   },
   {
    "duration": 103,
    "start_time": "2024-11-13T16:45:52.672Z"
   },
   {
    "duration": 23,
    "start_time": "2024-11-13T16:45:52.776Z"
   },
   {
    "duration": 16,
    "start_time": "2024-11-13T16:45:52.800Z"
   },
   {
    "duration": 26,
    "start_time": "2024-11-13T16:45:52.817Z"
   },
   {
    "duration": 7,
    "start_time": "2024-11-13T16:45:52.845Z"
   },
   {
    "duration": 15,
    "start_time": "2024-11-13T16:45:52.855Z"
   },
   {
    "duration": 5,
    "start_time": "2024-11-13T16:45:52.871Z"
   },
   {
    "duration": 250,
    "start_time": "2024-11-13T16:45:52.878Z"
   },
   {
    "duration": 4,
    "start_time": "2024-11-13T16:45:53.130Z"
   },
   {
    "duration": 279,
    "start_time": "2024-11-13T16:45:53.143Z"
   },
   {
    "duration": 47,
    "start_time": "2024-11-14T09:20:05.191Z"
   },
   {
    "duration": 1235,
    "start_time": "2024-11-14T09:20:17.008Z"
   },
   {
    "duration": 423,
    "start_time": "2024-11-14T09:20:18.245Z"
   },
   {
    "duration": 22,
    "start_time": "2024-11-14T09:20:18.669Z"
   },
   {
    "duration": 19,
    "start_time": "2024-11-14T09:20:19.241Z"
   },
   {
    "duration": 10,
    "start_time": "2024-11-14T09:20:19.439Z"
   },
   {
    "duration": 10,
    "start_time": "2024-11-14T09:20:19.640Z"
   },
   {
    "duration": 8,
    "start_time": "2024-11-14T09:20:20.681Z"
   },
   {
    "duration": 10,
    "start_time": "2024-11-14T09:20:20.889Z"
   },
   {
    "duration": 8,
    "start_time": "2024-11-14T09:20:21.312Z"
   },
   {
    "duration": 11,
    "start_time": "2024-11-14T09:20:21.706Z"
   },
   {
    "duration": 7,
    "start_time": "2024-11-14T09:20:22.097Z"
   },
   {
    "duration": 3,
    "start_time": "2024-11-14T09:20:23.378Z"
   },
   {
    "duration": 3,
    "start_time": "2024-11-14T09:20:23.587Z"
   },
   {
    "duration": 10,
    "start_time": "2024-11-14T09:20:23.763Z"
   },
   {
    "duration": 5,
    "start_time": "2024-11-14T09:20:23.960Z"
   },
   {
    "duration": 4,
    "start_time": "2024-11-14T09:20:24.148Z"
   },
   {
    "duration": 274,
    "start_time": "2024-11-14T09:20:24.521Z"
   },
   {
    "duration": 150,
    "start_time": "2024-11-14T09:20:25.382Z"
   },
   {
    "duration": 351,
    "start_time": "2024-11-14T09:20:26.214Z"
   },
   {
    "duration": 328,
    "start_time": "2024-11-14T09:20:27.126Z"
   },
   {
    "duration": 326,
    "start_time": "2024-11-14T09:20:28.259Z"
   },
   {
    "duration": 21,
    "start_time": "2024-11-14T09:20:31.321Z"
   },
   {
    "duration": 38,
    "start_time": "2024-11-14T09:20:31.716Z"
   },
   {
    "duration": 6,
    "start_time": "2024-11-14T09:20:31.916Z"
   },
   {
    "duration": 33,
    "start_time": "2024-11-14T09:20:32.555Z"
   },
   {
    "duration": 46,
    "start_time": "2024-11-14T09:20:33.347Z"
   },
   {
    "duration": 43,
    "start_time": "2024-11-14T09:20:34.154Z"
   },
   {
    "duration": 49,
    "start_time": "2024-11-14T09:20:34.804Z"
   },
   {
    "duration": 4,
    "start_time": "2024-11-14T09:20:35.645Z"
   },
   {
    "duration": 509,
    "start_time": "2024-11-14T09:20:35.874Z"
   },
   {
    "duration": 337,
    "start_time": "2024-11-14T09:20:36.504Z"
   },
   {
    "duration": 4,
    "start_time": "2024-11-14T09:20:38.413Z"
   },
   {
    "duration": 50,
    "start_time": "2024-11-14T09:20:38.826Z"
   },
   {
    "duration": 18,
    "start_time": "2024-11-14T09:20:39.067Z"
   },
   {
    "duration": 16,
    "start_time": "2024-11-14T09:20:39.488Z"
   },
   {
    "duration": 4,
    "start_time": "2024-11-14T09:20:41.236Z"
   },
   {
    "duration": 4,
    "start_time": "2024-11-14T09:20:42.052Z"
   },
   {
    "duration": 7,
    "start_time": "2024-11-14T09:20:47.158Z"
   },
   {
    "duration": 7,
    "start_time": "2024-11-14T09:24:16.816Z"
   },
   {
    "duration": 8,
    "start_time": "2024-11-14T09:25:36.715Z"
   },
   {
    "duration": 7,
    "start_time": "2024-11-14T09:26:33.480Z"
   },
   {
    "duration": 9,
    "start_time": "2024-11-14T09:31:38.196Z"
   },
   {
    "duration": 7,
    "start_time": "2024-11-14T09:32:26.783Z"
   },
   {
    "duration": 1335,
    "start_time": "2024-11-14T12:50:11.560Z"
   },
   {
    "duration": 147,
    "start_time": "2024-11-14T12:50:12.947Z"
   },
   {
    "duration": 81,
    "start_time": "2024-11-14T12:50:13.096Z"
   },
   {
    "duration": 75,
    "start_time": "2024-11-14T12:50:13.179Z"
   },
   {
    "duration": 10,
    "start_time": "2024-11-14T12:50:13.256Z"
   },
   {
    "duration": 10,
    "start_time": "2024-11-14T12:50:13.267Z"
   },
   {
    "duration": 68,
    "start_time": "2024-11-14T12:50:13.279Z"
   },
   {
    "duration": 15,
    "start_time": "2024-11-14T12:50:13.349Z"
   },
   {
    "duration": 10,
    "start_time": "2024-11-14T12:50:13.366Z"
   },
   {
    "duration": 10,
    "start_time": "2024-11-14T12:50:13.378Z"
   },
   {
    "duration": 62,
    "start_time": "2024-11-14T12:50:13.390Z"
   },
   {
    "duration": 13,
    "start_time": "2024-11-14T12:50:13.453Z"
   },
   {
    "duration": 5,
    "start_time": "2024-11-14T12:50:13.467Z"
   },
   {
    "duration": 8,
    "start_time": "2024-11-14T12:50:13.473Z"
   },
   {
    "duration": 3,
    "start_time": "2024-11-14T12:50:13.483Z"
   },
   {
    "duration": 6,
    "start_time": "2024-11-14T12:50:13.488Z"
   },
   {
    "duration": 607,
    "start_time": "2024-11-14T12:50:13.496Z"
   },
   {
    "duration": 202,
    "start_time": "2024-11-14T12:50:14.105Z"
   },
   {
    "duration": 375,
    "start_time": "2024-11-14T12:50:14.309Z"
   },
   {
    "duration": 373,
    "start_time": "2024-11-14T12:50:14.686Z"
   },
   {
    "duration": 361,
    "start_time": "2024-11-14T12:50:15.061Z"
   },
   {
    "duration": 36,
    "start_time": "2024-11-14T12:50:15.423Z"
   },
   {
    "duration": 39,
    "start_time": "2024-11-14T12:50:15.460Z"
   },
   {
    "duration": 5,
    "start_time": "2024-11-14T12:50:15.500Z"
   },
   {
    "duration": 72,
    "start_time": "2024-11-14T12:50:15.507Z"
   },
   {
    "duration": 44,
    "start_time": "2024-11-14T12:50:15.580Z"
   },
   {
    "duration": 53,
    "start_time": "2024-11-14T12:50:15.625Z"
   },
   {
    "duration": 48,
    "start_time": "2024-11-14T12:50:15.681Z"
   },
   {
    "duration": 21,
    "start_time": "2024-11-14T12:50:15.730Z"
   },
   {
    "duration": 516,
    "start_time": "2024-11-14T12:50:15.753Z"
   },
   {
    "duration": 341,
    "start_time": "2024-11-14T12:50:16.271Z"
   },
   {
    "duration": 4,
    "start_time": "2024-11-14T12:50:16.614Z"
   },
   {
    "duration": 87,
    "start_time": "2024-11-14T12:50:16.619Z"
   },
   {
    "duration": 19,
    "start_time": "2024-11-14T12:50:16.708Z"
   },
   {
    "duration": 21,
    "start_time": "2024-11-14T12:50:16.728Z"
   },
   {
    "duration": 10,
    "start_time": "2024-11-14T12:50:16.750Z"
   },
   {
    "duration": 15,
    "start_time": "2024-11-14T12:50:16.761Z"
   },
   {
    "duration": 15,
    "start_time": "2024-11-14T12:50:16.778Z"
   },
   {
    "duration": 5,
    "start_time": "2024-11-14T12:50:16.794Z"
   },
   {
    "duration": 276,
    "start_time": "2024-11-14T12:50:16.800Z"
   },
   {
    "duration": 4,
    "start_time": "2024-11-14T12:50:17.077Z"
   },
   {
    "duration": 252,
    "start_time": "2024-11-14T12:50:17.082Z"
   },
   {
    "duration": 14,
    "start_time": "2024-11-14T12:50:36.677Z"
   },
   {
    "duration": 8,
    "start_time": "2024-11-14T12:50:49.718Z"
   },
   {
    "duration": 15,
    "start_time": "2024-11-14T12:51:03.684Z"
   },
   {
    "duration": 106,
    "start_time": "2024-11-14T12:51:18.853Z"
   },
   {
    "duration": 17,
    "start_time": "2024-11-14T12:51:35.860Z"
   },
   {
    "duration": 15,
    "start_time": "2024-11-14T12:51:38.297Z"
   },
   {
    "duration": 16,
    "start_time": "2024-11-14T12:52:12.513Z"
   },
   {
    "duration": 18,
    "start_time": "2024-11-14T12:52:36.058Z"
   },
   {
    "duration": 10,
    "start_time": "2024-11-14T12:52:44.055Z"
   },
   {
    "duration": 85,
    "start_time": "2024-11-14T12:52:57.142Z"
   },
   {
    "duration": 15,
    "start_time": "2024-11-14T12:52:59.561Z"
   },
   {
    "duration": 9,
    "start_time": "2024-12-18T14:44:29.504Z"
   }
  ],
  "kernelspec": {
   "display_name": "Python 3 (ipykernel)",
   "language": "python",
   "name": "python3"
  },
  "language_info": {
   "codemirror_mode": {
    "name": "ipython",
    "version": 3
   },
   "file_extension": ".py",
   "mimetype": "text/x-python",
   "name": "python",
   "nbconvert_exporter": "python",
   "pygments_lexer": "ipython3",
   "version": "3.9.21"
  },
  "toc": {
   "base_numbering": 1,
   "nav_menu": {},
   "number_sections": true,
   "sideBar": true,
   "skip_h1_title": true,
   "title_cell": "Table of Contents",
   "title_sidebar": "Contents",
   "toc_cell": false,
   "toc_position": {
    "height": "calc(100% - 180px)",
    "left": "10px",
    "top": "150px",
    "width": "165px"
   },
   "toc_section_display": true,
   "toc_window_display": true
  }
 },
 "nbformat": 4,
 "nbformat_minor": 5
}
